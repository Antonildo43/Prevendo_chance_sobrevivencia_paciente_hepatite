{
 "cells": [
  {
   "cell_type": "markdown",
   "metadata": {},
   "source": [
    "# Data Science Aplicada à Área de Saúde"
   ]
  },
  {
   "cell_type": "markdown",
   "metadata": {},
   "source": [
    "## Prevendo a chance de sobrevivência em paciente que sofre de hepatite"
   ]
  },
  {
   "cell_type": "code",
   "execution_count": null,
   "metadata": {},
   "outputs": [],
   "source": [
    "from IPython.display import Image\n",
    "Image(\"imagens/1265.jpg\")"
   ]
  },
  {
   "cell_type": "markdown",
   "metadata": {},
   "source": [
    "A hepatite é a inflamação do fígado. Pode ser causada por vírus ou pelo uso de alguns remédios, álcool e outras drogas, assim como por doenças autoimunes, metabólicas e genéticas. Em alguns casos, são doenças silenciosas que nem sempre apresentam sintomas.\n",
    "\n",
    "As hepatites virais são inflamações causadas por vírus que são classificados por letras do alfabeto em A, B, C, D (Delta) e E. No Brasil, mais de 70% (23.070) dos óbitos por hepatites virais são decorrentes da Hepatite C, seguido da Hepatite B (21,8%) e A (1,7%). O país registrou 40.198 casos novos de hepatites virais em 2017.  \n",
    "\n",
    "Quais os sintomas da hepatite A,B e C?\n",
    "\n",
    "As hepatites são doenças que nem sempre apresentam sintomas, mas, quando estes estão presentes podem ser:\n",
    "\n",
    "#### Sintomas mais comuns da hepatite A e B:\n",
    "\n",
    "    Dor ou desconforto abdominal\n",
    "    Dor muscular\n",
    "    Fadiga\n",
    "    Náusea e vômitos\n",
    "    Perda de apetite\n",
    "    Febre\n",
    "    Urina escura\n",
    "    Amarelamento da pele e olhos\n",
    " \n",
    "\n",
    "#### Sintomas mais comuns da hepatite C:\n",
    "\n",
    "    Dor ou inchaço abdominal\n",
    "    Fadiga\n",
    "    Náusea e vômitos.\n",
    "    Perda de apetite\n",
    "    Febre\n",
    "    Urina escura\n",
    "    Coceira\n",
    "    Amarelamento da pele e olhos\n",
    "    Sangramento no esôfago ou no estômago\n",
    "\n",
    "#### Como é feito o diagnóstico?\n",
    "\n",
    "O diagnóstico e o tratamento precoces podem evitar a evolução da doença para cirrose ou câncer de fígado. Por isso, é tão importante fazer os exames. O diagnóstico pode ser feito por testes rápidos que dão o resultado em uma hora. Também existem exames feitos em laboratório.\n",
    "\n",
    "\n",
    "Fonte: https://www.saude.gov.br/saude-de-a-z/hepatite"
   ]
  },
  {
   "cell_type": "markdown",
   "metadata": {},
   "source": [
    "## Introdução\n",
    "\n",
    "Os sintomas são indicadores importantes na avaliação de qualquer doença. As doenças hepáticas tornaram-se uma das causas mais frequente de morte em todo o mundo. Estabelecer um método que nos auxilie em prognósticos precisos na avaliação de pacientes com hepatite ainda é um grande desafio.\n",
    "\n",
    "O objetivo deste trabalho é analisar um conjunto de dados contendo informações sobre pacientes com hepatite e criar um modelo para prever sua chance de sobrevivência.\n",
    "\n",
    "Esse conjunto de dados possui 155 linhas, 20 colunas e fornece vários atributos de pacientes que sofrem de hepatite, originalmente doado por G.Gong (Universidade Carnegie-Mellon) via Bojan Cestnik Jozef Stefan Institute em Ljubljana e data de novembro de 1988. Trata-se de um estudo observacional onde foram coletados dados sobre 19 características diferentes e uma classe extra (DIE ou LIVE), dentro de uma faixa etária de pacientes ente 7-78 anos.\n"
   ]
  },
  {
   "cell_type": "markdown",
   "metadata": {},
   "source": [
    "Fonte dos dados: https://archive.ics.uci.edu/ml/datasets/hepatitis"
   ]
  },
  {
   "cell_type": "markdown",
   "metadata": {},
   "source": [
    "1. Title: Hepatitis Domain\n",
    "2. Sources:\n",
    "     (a) unknown\n",
    "     (b) Donor: G.Gong  (Carnegie-Mellon University) via \n",
    "                   Bojan Cestnik\n",
    "                   Jozef Stefan Institute\n",
    "                   Jamova 39\n",
    "                   61000 Ljubljana\n",
    "                   Yugoslavia (tel.: (38)(+61) 214-399 ext.287) }\n",
    "     (c) Date: November, 1988\n",
    "3. Past Usage:\n",
    "    1. Diaconis,P. & Efron,B. (1983).  Computer-Intensive Methods in \n",
    "       Statistics.  Scientific American, Volume 248.\n",
    "       -- Gail Gong reported a 80% classfication accuracy\n",
    "    2. Cestnik,G., Konenenko,I, & Bratko,I. (1987). Assistant-86: A\n",
    "       Knowledge-Elicitation Tool for Sophisticated Users.  In I.Bratko\n",
    "       & N.Lavrac (Eds.) Progress in Machine Learning, 31-45, Sigma Press.\n",
    "       -- Assistant-86: 83% accuracy\n",
    "4. Relevant Information:\n",
    "    Please ask Gail Gong for further information on this database.\n",
    "5. Number of Instances: 155\n",
    "6. Number of Attributes: 20 (including the class attribute)\n",
    "7. Attribute information: \n",
    "    Class: DIE, LIVE\n",
    "    \n",
    "    AGE: 10, 20, 30, 40, 50, 60, 70, 80\n",
    "    \n",
    "    SEX: male, female\n",
    "    \n",
    "    STEROID: no, yes\n",
    "    \n",
    "    ANTIVIRALS: no, yes\n",
    "    \n",
    "    FATIGUE: no, yes\n",
    "    \n",
    "    MALAISE: no, yes\n",
    "    \n",
    "    ANOREXIA: no, yes\n",
    "    \n",
    "    LIVER BIG: no, yes\n",
    "    \n",
    "    LIVER FIRM: no, yes\n",
    "    \n",
    "    SPLEEN PALPABLE: no, yes\n",
    "    \n",
    "    SPIDERS: no, yes\n",
    "    \n",
    "    ASCITES: no, yes\n",
    "    \n",
    "    VARICES: no, yes\n",
    "    \n",
    "    BILIRUBIN: 0.39, 0.80, 1.20, 2.00, 3.00, 4.00\n",
    "    \n",
    "        -- see the note below\n",
    "        \n",
    "    ALK PHOSPHATE: 33, 80, 120, 160, 200, 250\n",
    "    \n",
    "    SGOT: 13, 100, 200, 300, 400, 500,\n",
    "    \n",
    "    ALBUMIN: 2.1, 3.0, 3.8, 4.5, 5.0, 6.0\n",
    "    \n",
    "    PROTIME: 10, 20, 30, 40, 50, 60, 70, 80, 90\n",
    "    \n",
    "    HISTOLOGY: no, yes\n",
    "    \n",
    "\n",
    "The BILIRUBIN attribute appears to be continuously-valued.  I checked\n",
    "this with the donater, Bojan Cestnik, who replied:\n",
    "\n",
    "      About the hepatitis database and BILIRUBIN problem I would like to say\n",
    "      the following: BILIRUBIN is continuous attribute (= the number of it's\n",
    "      \"values\" in the ASDOHEPA.DAT file is negative!!!); \"values\" are quoted\n",
    "      because when speaking about the continuous attribute there is no such \n",
    "      thing as all possible values. However, they represent so called\n",
    "      \"boundary\" values; according to these \"boundary\" values the attribute\n",
    "      can be discretized. At the same time, because of the continious\n",
    "      attribute, one can perform some other test since the continuous\n",
    "      information is preserved. I hope that these lines have at least roughly \n",
    "      answered your question. \n",
    "9. Class Distribution:\n",
    "     DIE: 32\n",
    "    LIVE: 123\n"
   ]
  },
  {
   "cell_type": "code",
   "execution_count": 1,
   "metadata": {},
   "outputs": [],
   "source": [
    "# Carregando os pacotes\n",
    "import pandas as pd\n",
    "import numpy as np\n",
    "import statsmodels.api as sm\n",
    "import matplotlib.pyplot as plt\n",
    "import seaborn as sns\n",
    "from sklearn.linear_model import LogisticRegression, LogisticRegressionCV\n",
    "from sklearn.ensemble import RandomForestClassifier\n",
    "from sklearn.linear_model import BayesianRidge\n",
    "from sklearn.tree import DecisionTreeRegressor\n",
    "from sklearn.ensemble import ExtraTreesRegressor\n",
    "from sklearn.neighbors import KNeighborsRegressor\n",
    "from sklearn.experimental import enable_iterative_imputer \n",
    "from sklearn.pipeline import make_pipeline\n",
    "from sklearn.model_selection import cross_val_score, cross_val_predict\n",
    "from sklearn.model_selection import StratifiedKFold\n",
    "from sklearn.feature_selection import RFE\n",
    "from sklearn.metrics import confusion_matrix, classification_report, accuracy_score, roc_curve, auc, precision_score, recall_score, roc_auc_score \n",
    "from sklearn.impute import IterativeImputer\n",
    "import warnings\n",
    "warnings.filterwarnings(\"ignore\")"
   ]
  },
  {
   "cell_type": "code",
   "execution_count": 2,
   "metadata": {},
   "outputs": [
    {
     "data": {
      "text/plain": [
       "'1.0.4'"
      ]
     },
     "execution_count": 2,
     "metadata": {},
     "output_type": "execute_result"
    }
   ],
   "source": [
    "pd.__version__"
   ]
  },
  {
   "cell_type": "code",
   "execution_count": 3,
   "metadata": {},
   "outputs": [
    {
     "data": {
      "text/plain": [
       "'1.16.2'"
      ]
     },
     "execution_count": 3,
     "metadata": {},
     "output_type": "execute_result"
    }
   ],
   "source": [
    "np.__version__"
   ]
  },
  {
   "cell_type": "markdown",
   "metadata": {},
   "source": [
    "## Carregando os Dados"
   ]
  },
  {
   "cell_type": "code",
   "execution_count": 4,
   "metadata": {},
   "outputs": [],
   "source": [
    "nome_colunas = ['Class', 'Age','Gender', 'Steroid', 'Antivirals','Fatigue','Malaise','Anorexia','LiverBig',\n",
    "                'LiverFirm','SpleenPalpable','Spiders','Ascites','Varices','Bilirubin','AlkPhosphate','SGOT',\n",
    "                'Albumin','Protime','Histology']"
   ]
  },
  {
   "cell_type": "code",
   "execution_count": 5,
   "metadata": {},
   "outputs": [],
   "source": [
    "dados_hepatite = pd.read_csv('dados/hepatite.data', \n",
    "                             names = nome_colunas, \n",
    "                             sep = ',', \n",
    "                             encoding = 'latin-1')"
   ]
  },
  {
   "cell_type": "markdown",
   "metadata": {},
   "source": [
    "## Análise Exploratória"
   ]
  },
  {
   "cell_type": "code",
   "execution_count": 6,
   "metadata": {},
   "outputs": [
    {
     "data": {
      "text/html": [
       "<div>\n",
       "<style scoped>\n",
       "    .dataframe tbody tr th:only-of-type {\n",
       "        vertical-align: middle;\n",
       "    }\n",
       "\n",
       "    .dataframe tbody tr th {\n",
       "        vertical-align: top;\n",
       "    }\n",
       "\n",
       "    .dataframe thead th {\n",
       "        text-align: right;\n",
       "    }\n",
       "</style>\n",
       "<table border=\"1\" class=\"dataframe\">\n",
       "  <thead>\n",
       "    <tr style=\"text-align: right;\">\n",
       "      <th></th>\n",
       "      <th>Class</th>\n",
       "      <th>Age</th>\n",
       "      <th>Gender</th>\n",
       "      <th>Steroid</th>\n",
       "      <th>Antivirals</th>\n",
       "      <th>Fatigue</th>\n",
       "      <th>Malaise</th>\n",
       "      <th>Anorexia</th>\n",
       "      <th>LiverBig</th>\n",
       "      <th>LiverFirm</th>\n",
       "      <th>SpleenPalpable</th>\n",
       "      <th>Spiders</th>\n",
       "      <th>Ascites</th>\n",
       "      <th>Varices</th>\n",
       "      <th>Bilirubin</th>\n",
       "      <th>AlkPhosphate</th>\n",
       "      <th>SGOT</th>\n",
       "      <th>Albumin</th>\n",
       "      <th>Protime</th>\n",
       "      <th>Histology</th>\n",
       "    </tr>\n",
       "  </thead>\n",
       "  <tbody>\n",
       "    <tr>\n",
       "      <th>0</th>\n",
       "      <td>2</td>\n",
       "      <td>30</td>\n",
       "      <td>2</td>\n",
       "      <td>1</td>\n",
       "      <td>2</td>\n",
       "      <td>2</td>\n",
       "      <td>2</td>\n",
       "      <td>2</td>\n",
       "      <td>1</td>\n",
       "      <td>2</td>\n",
       "      <td>2</td>\n",
       "      <td>2</td>\n",
       "      <td>2</td>\n",
       "      <td>2</td>\n",
       "      <td>1.00</td>\n",
       "      <td>85</td>\n",
       "      <td>18</td>\n",
       "      <td>4.0</td>\n",
       "      <td>?</td>\n",
       "      <td>1</td>\n",
       "    </tr>\n",
       "    <tr>\n",
       "      <th>1</th>\n",
       "      <td>2</td>\n",
       "      <td>50</td>\n",
       "      <td>1</td>\n",
       "      <td>1</td>\n",
       "      <td>2</td>\n",
       "      <td>1</td>\n",
       "      <td>2</td>\n",
       "      <td>2</td>\n",
       "      <td>1</td>\n",
       "      <td>2</td>\n",
       "      <td>2</td>\n",
       "      <td>2</td>\n",
       "      <td>2</td>\n",
       "      <td>2</td>\n",
       "      <td>0.90</td>\n",
       "      <td>135</td>\n",
       "      <td>42</td>\n",
       "      <td>3.5</td>\n",
       "      <td>?</td>\n",
       "      <td>1</td>\n",
       "    </tr>\n",
       "    <tr>\n",
       "      <th>2</th>\n",
       "      <td>2</td>\n",
       "      <td>78</td>\n",
       "      <td>1</td>\n",
       "      <td>2</td>\n",
       "      <td>2</td>\n",
       "      <td>1</td>\n",
       "      <td>2</td>\n",
       "      <td>2</td>\n",
       "      <td>2</td>\n",
       "      <td>2</td>\n",
       "      <td>2</td>\n",
       "      <td>2</td>\n",
       "      <td>2</td>\n",
       "      <td>2</td>\n",
       "      <td>0.70</td>\n",
       "      <td>96</td>\n",
       "      <td>32</td>\n",
       "      <td>4.0</td>\n",
       "      <td>?</td>\n",
       "      <td>1</td>\n",
       "    </tr>\n",
       "    <tr>\n",
       "      <th>3</th>\n",
       "      <td>2</td>\n",
       "      <td>31</td>\n",
       "      <td>1</td>\n",
       "      <td>?</td>\n",
       "      <td>1</td>\n",
       "      <td>2</td>\n",
       "      <td>2</td>\n",
       "      <td>2</td>\n",
       "      <td>2</td>\n",
       "      <td>2</td>\n",
       "      <td>2</td>\n",
       "      <td>2</td>\n",
       "      <td>2</td>\n",
       "      <td>2</td>\n",
       "      <td>0.70</td>\n",
       "      <td>46</td>\n",
       "      <td>52</td>\n",
       "      <td>4.0</td>\n",
       "      <td>80</td>\n",
       "      <td>1</td>\n",
       "    </tr>\n",
       "    <tr>\n",
       "      <th>4</th>\n",
       "      <td>2</td>\n",
       "      <td>34</td>\n",
       "      <td>1</td>\n",
       "      <td>2</td>\n",
       "      <td>2</td>\n",
       "      <td>2</td>\n",
       "      <td>2</td>\n",
       "      <td>2</td>\n",
       "      <td>2</td>\n",
       "      <td>2</td>\n",
       "      <td>2</td>\n",
       "      <td>2</td>\n",
       "      <td>2</td>\n",
       "      <td>2</td>\n",
       "      <td>1.00</td>\n",
       "      <td>?</td>\n",
       "      <td>200</td>\n",
       "      <td>4.0</td>\n",
       "      <td>?</td>\n",
       "      <td>1</td>\n",
       "    </tr>\n",
       "    <tr>\n",
       "      <th>5</th>\n",
       "      <td>2</td>\n",
       "      <td>34</td>\n",
       "      <td>1</td>\n",
       "      <td>2</td>\n",
       "      <td>2</td>\n",
       "      <td>2</td>\n",
       "      <td>2</td>\n",
       "      <td>2</td>\n",
       "      <td>2</td>\n",
       "      <td>2</td>\n",
       "      <td>2</td>\n",
       "      <td>2</td>\n",
       "      <td>2</td>\n",
       "      <td>2</td>\n",
       "      <td>0.90</td>\n",
       "      <td>95</td>\n",
       "      <td>28</td>\n",
       "      <td>4.0</td>\n",
       "      <td>75</td>\n",
       "      <td>1</td>\n",
       "    </tr>\n",
       "    <tr>\n",
       "      <th>6</th>\n",
       "      <td>1</td>\n",
       "      <td>51</td>\n",
       "      <td>1</td>\n",
       "      <td>1</td>\n",
       "      <td>2</td>\n",
       "      <td>1</td>\n",
       "      <td>2</td>\n",
       "      <td>1</td>\n",
       "      <td>2</td>\n",
       "      <td>2</td>\n",
       "      <td>1</td>\n",
       "      <td>1</td>\n",
       "      <td>2</td>\n",
       "      <td>2</td>\n",
       "      <td>?</td>\n",
       "      <td>?</td>\n",
       "      <td>?</td>\n",
       "      <td>?</td>\n",
       "      <td>?</td>\n",
       "      <td>1</td>\n",
       "    </tr>\n",
       "    <tr>\n",
       "      <th>7</th>\n",
       "      <td>2</td>\n",
       "      <td>23</td>\n",
       "      <td>1</td>\n",
       "      <td>2</td>\n",
       "      <td>2</td>\n",
       "      <td>2</td>\n",
       "      <td>2</td>\n",
       "      <td>2</td>\n",
       "      <td>2</td>\n",
       "      <td>2</td>\n",
       "      <td>2</td>\n",
       "      <td>2</td>\n",
       "      <td>2</td>\n",
       "      <td>2</td>\n",
       "      <td>1.00</td>\n",
       "      <td>?</td>\n",
       "      <td>?</td>\n",
       "      <td>?</td>\n",
       "      <td>?</td>\n",
       "      <td>1</td>\n",
       "    </tr>\n",
       "    <tr>\n",
       "      <th>8</th>\n",
       "      <td>2</td>\n",
       "      <td>39</td>\n",
       "      <td>1</td>\n",
       "      <td>2</td>\n",
       "      <td>2</td>\n",
       "      <td>1</td>\n",
       "      <td>2</td>\n",
       "      <td>2</td>\n",
       "      <td>2</td>\n",
       "      <td>1</td>\n",
       "      <td>2</td>\n",
       "      <td>2</td>\n",
       "      <td>2</td>\n",
       "      <td>2</td>\n",
       "      <td>0.70</td>\n",
       "      <td>?</td>\n",
       "      <td>48</td>\n",
       "      <td>4.4</td>\n",
       "      <td>?</td>\n",
       "      <td>1</td>\n",
       "    </tr>\n",
       "    <tr>\n",
       "      <th>9</th>\n",
       "      <td>2</td>\n",
       "      <td>30</td>\n",
       "      <td>1</td>\n",
       "      <td>2</td>\n",
       "      <td>2</td>\n",
       "      <td>2</td>\n",
       "      <td>2</td>\n",
       "      <td>2</td>\n",
       "      <td>2</td>\n",
       "      <td>2</td>\n",
       "      <td>2</td>\n",
       "      <td>2</td>\n",
       "      <td>2</td>\n",
       "      <td>2</td>\n",
       "      <td>1.00</td>\n",
       "      <td>?</td>\n",
       "      <td>120</td>\n",
       "      <td>3.9</td>\n",
       "      <td>?</td>\n",
       "      <td>1</td>\n",
       "    </tr>\n",
       "    <tr>\n",
       "      <th>10</th>\n",
       "      <td>2</td>\n",
       "      <td>39</td>\n",
       "      <td>1</td>\n",
       "      <td>1</td>\n",
       "      <td>1</td>\n",
       "      <td>2</td>\n",
       "      <td>2</td>\n",
       "      <td>2</td>\n",
       "      <td>1</td>\n",
       "      <td>1</td>\n",
       "      <td>2</td>\n",
       "      <td>2</td>\n",
       "      <td>2</td>\n",
       "      <td>2</td>\n",
       "      <td>1.30</td>\n",
       "      <td>78</td>\n",
       "      <td>30</td>\n",
       "      <td>4.4</td>\n",
       "      <td>85</td>\n",
       "      <td>1</td>\n",
       "    </tr>\n",
       "    <tr>\n",
       "      <th>11</th>\n",
       "      <td>2</td>\n",
       "      <td>32</td>\n",
       "      <td>1</td>\n",
       "      <td>2</td>\n",
       "      <td>1</td>\n",
       "      <td>1</td>\n",
       "      <td>2</td>\n",
       "      <td>2</td>\n",
       "      <td>2</td>\n",
       "      <td>1</td>\n",
       "      <td>2</td>\n",
       "      <td>1</td>\n",
       "      <td>2</td>\n",
       "      <td>2</td>\n",
       "      <td>1.00</td>\n",
       "      <td>59</td>\n",
       "      <td>249</td>\n",
       "      <td>3.7</td>\n",
       "      <td>54</td>\n",
       "      <td>1</td>\n",
       "    </tr>\n",
       "    <tr>\n",
       "      <th>12</th>\n",
       "      <td>2</td>\n",
       "      <td>41</td>\n",
       "      <td>1</td>\n",
       "      <td>2</td>\n",
       "      <td>1</td>\n",
       "      <td>1</td>\n",
       "      <td>2</td>\n",
       "      <td>2</td>\n",
       "      <td>2</td>\n",
       "      <td>1</td>\n",
       "      <td>2</td>\n",
       "      <td>2</td>\n",
       "      <td>2</td>\n",
       "      <td>2</td>\n",
       "      <td>0.90</td>\n",
       "      <td>81</td>\n",
       "      <td>60</td>\n",
       "      <td>3.9</td>\n",
       "      <td>52</td>\n",
       "      <td>1</td>\n",
       "    </tr>\n",
       "    <tr>\n",
       "      <th>13</th>\n",
       "      <td>2</td>\n",
       "      <td>30</td>\n",
       "      <td>1</td>\n",
       "      <td>2</td>\n",
       "      <td>2</td>\n",
       "      <td>1</td>\n",
       "      <td>2</td>\n",
       "      <td>2</td>\n",
       "      <td>2</td>\n",
       "      <td>1</td>\n",
       "      <td>2</td>\n",
       "      <td>2</td>\n",
       "      <td>2</td>\n",
       "      <td>2</td>\n",
       "      <td>2.20</td>\n",
       "      <td>57</td>\n",
       "      <td>144</td>\n",
       "      <td>4.9</td>\n",
       "      <td>78</td>\n",
       "      <td>1</td>\n",
       "    </tr>\n",
       "    <tr>\n",
       "      <th>14</th>\n",
       "      <td>2</td>\n",
       "      <td>47</td>\n",
       "      <td>1</td>\n",
       "      <td>1</td>\n",
       "      <td>1</td>\n",
       "      <td>2</td>\n",
       "      <td>2</td>\n",
       "      <td>2</td>\n",
       "      <td>2</td>\n",
       "      <td>2</td>\n",
       "      <td>2</td>\n",
       "      <td>2</td>\n",
       "      <td>2</td>\n",
       "      <td>2</td>\n",
       "      <td>?</td>\n",
       "      <td>?</td>\n",
       "      <td>60</td>\n",
       "      <td>?</td>\n",
       "      <td>?</td>\n",
       "      <td>1</td>\n",
       "    </tr>\n",
       "    <tr>\n",
       "      <th>15</th>\n",
       "      <td>2</td>\n",
       "      <td>38</td>\n",
       "      <td>1</td>\n",
       "      <td>1</td>\n",
       "      <td>2</td>\n",
       "      <td>1</td>\n",
       "      <td>1</td>\n",
       "      <td>1</td>\n",
       "      <td>2</td>\n",
       "      <td>2</td>\n",
       "      <td>2</td>\n",
       "      <td>2</td>\n",
       "      <td>1</td>\n",
       "      <td>2</td>\n",
       "      <td>2.00</td>\n",
       "      <td>72</td>\n",
       "      <td>89</td>\n",
       "      <td>2.9</td>\n",
       "      <td>46</td>\n",
       "      <td>1</td>\n",
       "    </tr>\n",
       "    <tr>\n",
       "      <th>16</th>\n",
       "      <td>2</td>\n",
       "      <td>66</td>\n",
       "      <td>1</td>\n",
       "      <td>2</td>\n",
       "      <td>2</td>\n",
       "      <td>1</td>\n",
       "      <td>2</td>\n",
       "      <td>2</td>\n",
       "      <td>2</td>\n",
       "      <td>2</td>\n",
       "      <td>2</td>\n",
       "      <td>2</td>\n",
       "      <td>2</td>\n",
       "      <td>2</td>\n",
       "      <td>1.20</td>\n",
       "      <td>102</td>\n",
       "      <td>53</td>\n",
       "      <td>4.3</td>\n",
       "      <td>?</td>\n",
       "      <td>1</td>\n",
       "    </tr>\n",
       "    <tr>\n",
       "      <th>17</th>\n",
       "      <td>2</td>\n",
       "      <td>40</td>\n",
       "      <td>1</td>\n",
       "      <td>1</td>\n",
       "      <td>2</td>\n",
       "      <td>1</td>\n",
       "      <td>2</td>\n",
       "      <td>2</td>\n",
       "      <td>2</td>\n",
       "      <td>1</td>\n",
       "      <td>2</td>\n",
       "      <td>2</td>\n",
       "      <td>2</td>\n",
       "      <td>2</td>\n",
       "      <td>0.60</td>\n",
       "      <td>62</td>\n",
       "      <td>166</td>\n",
       "      <td>4.0</td>\n",
       "      <td>63</td>\n",
       "      <td>1</td>\n",
       "    </tr>\n",
       "    <tr>\n",
       "      <th>18</th>\n",
       "      <td>2</td>\n",
       "      <td>38</td>\n",
       "      <td>1</td>\n",
       "      <td>2</td>\n",
       "      <td>2</td>\n",
       "      <td>2</td>\n",
       "      <td>2</td>\n",
       "      <td>2</td>\n",
       "      <td>2</td>\n",
       "      <td>2</td>\n",
       "      <td>2</td>\n",
       "      <td>2</td>\n",
       "      <td>2</td>\n",
       "      <td>2</td>\n",
       "      <td>0.70</td>\n",
       "      <td>53</td>\n",
       "      <td>42</td>\n",
       "      <td>4.1</td>\n",
       "      <td>85</td>\n",
       "      <td>2</td>\n",
       "    </tr>\n",
       "    <tr>\n",
       "      <th>19</th>\n",
       "      <td>2</td>\n",
       "      <td>38</td>\n",
       "      <td>1</td>\n",
       "      <td>1</td>\n",
       "      <td>1</td>\n",
       "      <td>2</td>\n",
       "      <td>2</td>\n",
       "      <td>2</td>\n",
       "      <td>1</td>\n",
       "      <td>1</td>\n",
       "      <td>2</td>\n",
       "      <td>2</td>\n",
       "      <td>2</td>\n",
       "      <td>2</td>\n",
       "      <td>0.70</td>\n",
       "      <td>70</td>\n",
       "      <td>28</td>\n",
       "      <td>4.2</td>\n",
       "      <td>62</td>\n",
       "      <td>1</td>\n",
       "    </tr>\n",
       "  </tbody>\n",
       "</table>\n",
       "</div>"
      ],
      "text/plain": [
       "    Class  Age  Gender Steroid  Antivirals Fatigue Malaise Anorexia LiverBig  \\\n",
       "0       2   30       2       1           2       2       2        2        1   \n",
       "1       2   50       1       1           2       1       2        2        1   \n",
       "2       2   78       1       2           2       1       2        2        2   \n",
       "3       2   31       1       ?           1       2       2        2        2   \n",
       "4       2   34       1       2           2       2       2        2        2   \n",
       "5       2   34       1       2           2       2       2        2        2   \n",
       "6       1   51       1       1           2       1       2        1        2   \n",
       "7       2   23       1       2           2       2       2        2        2   \n",
       "8       2   39       1       2           2       1       2        2        2   \n",
       "9       2   30       1       2           2       2       2        2        2   \n",
       "10      2   39       1       1           1       2       2        2        1   \n",
       "11      2   32       1       2           1       1       2        2        2   \n",
       "12      2   41       1       2           1       1       2        2        2   \n",
       "13      2   30       1       2           2       1       2        2        2   \n",
       "14      2   47       1       1           1       2       2        2        2   \n",
       "15      2   38       1       1           2       1       1        1        2   \n",
       "16      2   66       1       2           2       1       2        2        2   \n",
       "17      2   40       1       1           2       1       2        2        2   \n",
       "18      2   38       1       2           2       2       2        2        2   \n",
       "19      2   38       1       1           1       2       2        2        1   \n",
       "\n",
       "   LiverFirm SpleenPalpable Spiders Ascites Varices Bilirubin AlkPhosphate  \\\n",
       "0          2              2       2       2       2      1.00           85   \n",
       "1          2              2       2       2       2      0.90          135   \n",
       "2          2              2       2       2       2      0.70           96   \n",
       "3          2              2       2       2       2      0.70           46   \n",
       "4          2              2       2       2       2      1.00            ?   \n",
       "5          2              2       2       2       2      0.90           95   \n",
       "6          2              1       1       2       2         ?            ?   \n",
       "7          2              2       2       2       2      1.00            ?   \n",
       "8          1              2       2       2       2      0.70            ?   \n",
       "9          2              2       2       2       2      1.00            ?   \n",
       "10         1              2       2       2       2      1.30           78   \n",
       "11         1              2       1       2       2      1.00           59   \n",
       "12         1              2       2       2       2      0.90           81   \n",
       "13         1              2       2       2       2      2.20           57   \n",
       "14         2              2       2       2       2         ?            ?   \n",
       "15         2              2       2       1       2      2.00           72   \n",
       "16         2              2       2       2       2      1.20          102   \n",
       "17         1              2       2       2       2      0.60           62   \n",
       "18         2              2       2       2       2      0.70           53   \n",
       "19         1              2       2       2       2      0.70           70   \n",
       "\n",
       "   SGOT Albumin Protime  Histology  \n",
       "0    18     4.0       ?          1  \n",
       "1    42     3.5       ?          1  \n",
       "2    32     4.0       ?          1  \n",
       "3    52     4.0      80          1  \n",
       "4   200     4.0       ?          1  \n",
       "5    28     4.0      75          1  \n",
       "6     ?       ?       ?          1  \n",
       "7     ?       ?       ?          1  \n",
       "8    48     4.4       ?          1  \n",
       "9   120     3.9       ?          1  \n",
       "10   30     4.4      85          1  \n",
       "11  249     3.7      54          1  \n",
       "12   60     3.9      52          1  \n",
       "13  144     4.9      78          1  \n",
       "14   60       ?       ?          1  \n",
       "15   89     2.9      46          1  \n",
       "16   53     4.3       ?          1  \n",
       "17  166     4.0      63          1  \n",
       "18   42     4.1      85          2  \n",
       "19   28     4.2      62          1  "
      ]
     },
     "execution_count": 6,
     "metadata": {},
     "output_type": "execute_result"
    }
   ],
   "source": [
    "dados_hepatite.head(20)"
   ]
  },
  {
   "cell_type": "code",
   "execution_count": 7,
   "metadata": {},
   "outputs": [
    {
     "name": "stdout",
     "output_type": "stream",
     "text": [
      "<class 'pandas.core.frame.DataFrame'>\n",
      "RangeIndex: 155 entries, 0 to 154\n",
      "Data columns (total 20 columns):\n",
      " #   Column          Non-Null Count  Dtype \n",
      "---  ------          --------------  ----- \n",
      " 0   Class           155 non-null    int64 \n",
      " 1   Age             155 non-null    int64 \n",
      " 2   Gender          155 non-null    int64 \n",
      " 3   Steroid         155 non-null    object\n",
      " 4   Antivirals      155 non-null    int64 \n",
      " 5   Fatigue         155 non-null    object\n",
      " 6   Malaise         155 non-null    object\n",
      " 7   Anorexia        155 non-null    object\n",
      " 8   LiverBig        155 non-null    object\n",
      " 9   LiverFirm       155 non-null    object\n",
      " 10  SpleenPalpable  155 non-null    object\n",
      " 11  Spiders         155 non-null    object\n",
      " 12  Ascites         155 non-null    object\n",
      " 13  Varices         155 non-null    object\n",
      " 14  Bilirubin       155 non-null    object\n",
      " 15  AlkPhosphate    155 non-null    object\n",
      " 16  SGOT            155 non-null    object\n",
      " 17  Albumin         155 non-null    object\n",
      " 18  Protime         155 non-null    object\n",
      " 19  Histology       155 non-null    int64 \n",
      "dtypes: int64(5), object(15)\n",
      "memory usage: 24.3+ KB\n"
     ]
    }
   ],
   "source": [
    "dados_hepatite.info()"
   ]
  },
  {
   "cell_type": "code",
   "execution_count": 8,
   "metadata": {},
   "outputs": [
    {
     "data": {
      "text/plain": [
       "(155, 20)"
      ]
     },
     "execution_count": 8,
     "metadata": {},
     "output_type": "execute_result"
    }
   ],
   "source": [
    "# Formato dos dados\n",
    "dados_hepatite.shape"
   ]
  },
  {
   "cell_type": "raw",
   "metadata": {},
   "source": [
    "A variável alvo desse conjunto de dados nos indica os pacientes com prognóstico de sobreviver e de morrer, através dos valores 'LIVE' = 2 e'DIE' = 1. "
   ]
  },
  {
   "cell_type": "code",
   "execution_count": 9,
   "metadata": {},
   "outputs": [
    {
     "data": {
      "text/plain": [
       "2    123\n",
       "1     32\n",
       "Name: Class, dtype: int64"
      ]
     },
     "execution_count": 9,
     "metadata": {},
     "output_type": "execute_result"
    }
   ],
   "source": [
    "dados_hepatite['Class'].value_counts()"
   ]
  },
  {
   "cell_type": "code",
   "execution_count": 10,
   "metadata": {},
   "outputs": [
    {
     "data": {
      "image/png": "[encoded data removed]",
      "text/plain": [
       "<Figure size 432x288 with 1 Axes>"
      ]
     },
     "metadata": {},
     "output_type": "display_data"
    }
   ],
   "source": [
    "sns.set(style=\"whitegrid\")\n",
    "\n",
    "#Usando um gráfico de barras para mostrar a distribuição das classes: Morrer e Sobreviver\n",
    "bp = sns.countplot(x=dados_hepatite['Class'])\n",
    "plt.title(\"Distribuição de classe do conjunto de dados\")\n",
    "bp.set_xticklabels([\"Morrer\",\"Sobreviver\"])\n",
    "plt.show()"
   ]
  },
  {
   "cell_type": "markdown",
   "metadata": {},
   "source": [
    "### Calcular a prevalência da classe positiva"
   ]
  },
  {
   "cell_type": "markdown",
   "metadata": {},
   "source": [
    "A prevalência é a porcentagem de suas amostras que tem a característica que você está tentando prever. No cenário em questão, significa que as pessoas que têm chance de sobreviver são positivas, enquanto as que foram a óbito são as negativas. A taxa é calculada por (número de amostras positivas / número de amostras). Portanto, uma taxa de prevalência de 0,2 significa que 20% de nossa amostra está tendo uma convulsão naquele momento."
   ]
  },
  {
   "cell_type": "code",
   "execution_count": 11,
   "metadata": {},
   "outputs": [
    {
     "name": "stdout",
     "output_type": "stream",
     "text": [
      "Prevalência da classe positiva: 0.794\n"
     ]
    }
   ],
   "source": [
    "# Esta função calcula a prevalência da classe positiva (label = 2)\n",
    "def calcula_prevalencia(y_actual):\n",
    "    return sum(y_actual) / len(y_actual)\n",
    "\n",
    "\n",
    "print(\"Prevalência da classe positiva: %.3f\"% calcula_prevalencia(dados_hepatite[\"Class\"].values==2))"
   ]
  },
  {
   "cell_type": "code",
   "execution_count": 12,
   "metadata": {},
   "outputs": [
    {
     "data": {
      "text/plain": [
       "155"
      ]
     },
     "execution_count": 12,
     "metadata": {},
     "output_type": "execute_result"
    }
   ],
   "source": [
    "len(dados_hepatite[\"Class\"].values==2)"
   ]
  },
  {
   "cell_type": "code",
   "execution_count": 13,
   "metadata": {},
   "outputs": [
    {
     "data": {
      "text/html": [
       "<div>\n",
       "<style scoped>\n",
       "    .dataframe tbody tr th:only-of-type {\n",
       "        vertical-align: middle;\n",
       "    }\n",
       "\n",
       "    .dataframe tbody tr th {\n",
       "        vertical-align: top;\n",
       "    }\n",
       "\n",
       "    .dataframe thead th {\n",
       "        text-align: right;\n",
       "    }\n",
       "</style>\n",
       "<table border=\"1\" class=\"dataframe\">\n",
       "  <thead>\n",
       "    <tr style=\"text-align: right;\">\n",
       "      <th></th>\n",
       "      <th>Class</th>\n",
       "      <th>Age</th>\n",
       "      <th>Gender</th>\n",
       "      <th>Antivirals</th>\n",
       "      <th>Histology</th>\n",
       "    </tr>\n",
       "  </thead>\n",
       "  <tbody>\n",
       "    <tr>\n",
       "      <th>count</th>\n",
       "      <td>155.000000</td>\n",
       "      <td>155.000000</td>\n",
       "      <td>155.000000</td>\n",
       "      <td>155.000000</td>\n",
       "      <td>155.000000</td>\n",
       "    </tr>\n",
       "    <tr>\n",
       "      <th>mean</th>\n",
       "      <td>1.793548</td>\n",
       "      <td>41.200000</td>\n",
       "      <td>1.103226</td>\n",
       "      <td>1.845161</td>\n",
       "      <td>1.451613</td>\n",
       "    </tr>\n",
       "    <tr>\n",
       "      <th>std</th>\n",
       "      <td>0.406070</td>\n",
       "      <td>12.565878</td>\n",
       "      <td>0.305240</td>\n",
       "      <td>0.362923</td>\n",
       "      <td>0.499266</td>\n",
       "    </tr>\n",
       "    <tr>\n",
       "      <th>min</th>\n",
       "      <td>1.000000</td>\n",
       "      <td>7.000000</td>\n",
       "      <td>1.000000</td>\n",
       "      <td>1.000000</td>\n",
       "      <td>1.000000</td>\n",
       "    </tr>\n",
       "    <tr>\n",
       "      <th>25%</th>\n",
       "      <td>2.000000</td>\n",
       "      <td>32.000000</td>\n",
       "      <td>1.000000</td>\n",
       "      <td>2.000000</td>\n",
       "      <td>1.000000</td>\n",
       "    </tr>\n",
       "    <tr>\n",
       "      <th>50%</th>\n",
       "      <td>2.000000</td>\n",
       "      <td>39.000000</td>\n",
       "      <td>1.000000</td>\n",
       "      <td>2.000000</td>\n",
       "      <td>1.000000</td>\n",
       "    </tr>\n",
       "    <tr>\n",
       "      <th>75%</th>\n",
       "      <td>2.000000</td>\n",
       "      <td>50.000000</td>\n",
       "      <td>1.000000</td>\n",
       "      <td>2.000000</td>\n",
       "      <td>2.000000</td>\n",
       "    </tr>\n",
       "    <tr>\n",
       "      <th>max</th>\n",
       "      <td>2.000000</td>\n",
       "      <td>78.000000</td>\n",
       "      <td>2.000000</td>\n",
       "      <td>2.000000</td>\n",
       "      <td>2.000000</td>\n",
       "    </tr>\n",
       "  </tbody>\n",
       "</table>\n",
       "</div>"
      ],
      "text/plain": [
       "            Class         Age      Gender  Antivirals   Histology\n",
       "count  155.000000  155.000000  155.000000  155.000000  155.000000\n",
       "mean     1.793548   41.200000    1.103226    1.845161    1.451613\n",
       "std      0.406070   12.565878    0.305240    0.362923    0.499266\n",
       "min      1.000000    7.000000    1.000000    1.000000    1.000000\n",
       "25%      2.000000   32.000000    1.000000    2.000000    1.000000\n",
       "50%      2.000000   39.000000    1.000000    2.000000    1.000000\n",
       "75%      2.000000   50.000000    1.000000    2.000000    2.000000\n",
       "max      2.000000   78.000000    2.000000    2.000000    2.000000"
      ]
     },
     "execution_count": 13,
     "metadata": {},
     "output_type": "execute_result"
    }
   ],
   "source": [
    "# Coletando estatísticas das colunas\n",
    "dados_hepatite.describe()"
   ]
  },
  {
   "cell_type": "code",
   "execution_count": 14,
   "metadata": {},
   "outputs": [],
   "source": [
    "# funcao para avaliar distribuição dos dados missings em cada atributo\n",
    "def checa_missing(df):\n",
    "    for col in df.columns:\n",
    "        if df[col].isnull().sum() > 0:\n",
    "            print(col, df[col].isnull().sum())"
   ]
  },
  {
   "cell_type": "code",
   "execution_count": 15,
   "metadata": {},
   "outputs": [],
   "source": [
    "# função para Avaliar a distribuição dos dados em cada atributo\n",
    "def checa_distribuicao(df):\n",
    "    for col in df.columns:\n",
    "        if df[col].dtype == object:\n",
    "            print(df.groupby([col])[col].count())\n",
    "            print('')"
   ]
  },
  {
   "cell_type": "code",
   "execution_count": 16,
   "metadata": {
    "scrolled": true
   },
   "outputs": [
    {
     "name": "stdout",
     "output_type": "stream",
     "text": [
      "Steroid\n",
      "1    76\n",
      "2    78\n",
      "?     1\n",
      "Name: Steroid, dtype: int64\n",
      "\n",
      "Fatigue\n",
      "1    100\n",
      "2     54\n",
      "?      1\n",
      "Name: Fatigue, dtype: int64\n",
      "\n",
      "Malaise\n",
      "1    61\n",
      "2    93\n",
      "?     1\n",
      "Name: Malaise, dtype: int64\n",
      "\n",
      "Anorexia\n",
      "1     32\n",
      "2    122\n",
      "?      1\n",
      "Name: Anorexia, dtype: int64\n",
      "\n",
      "LiverBig\n",
      "1     25\n",
      "2    120\n",
      "?     10\n",
      "Name: LiverBig, dtype: int64\n",
      "\n",
      "LiverFirm\n",
      "1    60\n",
      "2    84\n",
      "?    11\n",
      "Name: LiverFirm, dtype: int64\n",
      "\n",
      "SpleenPalpable\n",
      "1     30\n",
      "2    120\n",
      "?      5\n",
      "Name: SpleenPalpable, dtype: int64\n",
      "\n",
      "Spiders\n",
      "1    51\n",
      "2    99\n",
      "?     5\n",
      "Name: Spiders, dtype: int64\n",
      "\n",
      "Ascites\n",
      "1     20\n",
      "2    130\n",
      "?      5\n",
      "Name: Ascites, dtype: int64\n",
      "\n",
      "Varices\n",
      "1     18\n",
      "2    132\n",
      "?      5\n",
      "Name: Varices, dtype: int64\n",
      "\n",
      "Bilirubin\n",
      "0.30     1\n",
      "0.40     2\n",
      "0.50     2\n",
      "0.60    10\n",
      "0.70    23\n",
      "0.80    10\n",
      "0.90    13\n",
      "1.00    29\n",
      "1.10     1\n",
      "1.20     8\n",
      "1.30     6\n",
      "1.40     2\n",
      "1.50     7\n",
      "1.60     3\n",
      "1.70     3\n",
      "1.80     1\n",
      "1.90     1\n",
      "2.00     4\n",
      "2.20     1\n",
      "2.30     3\n",
      "2.40     1\n",
      "2.50     1\n",
      "2.80     2\n",
      "2.90     1\n",
      "3.00     1\n",
      "3.20     2\n",
      "3.50     1\n",
      "3.90     1\n",
      "4.10     1\n",
      "4.20     1\n",
      "4.60     4\n",
      "4.80     1\n",
      "7.60     1\n",
      "8.00     1\n",
      "?        6\n",
      "Name: Bilirubin, dtype: int64\n",
      "\n",
      "AlkPhosphate\n",
      "100     3\n",
      "102     2\n",
      "103     1\n",
      "107     1\n",
      "109     1\n",
      "       ..\n",
      "90      1\n",
      "92      1\n",
      "95      2\n",
      "96      1\n",
      "?      29\n",
      "Name: AlkPhosphate, Length: 84, dtype: int64\n",
      "\n",
      "SGOT\n",
      "100    1\n",
      "101    1\n",
      "110    1\n",
      "114    1\n",
      "117    1\n",
      "      ..\n",
      "89     1\n",
      "90     1\n",
      "92     2\n",
      "98     2\n",
      "?      4\n",
      "Name: SGOT, Length: 85, dtype: int64\n",
      "\n",
      "Albumin\n",
      "2.1     1\n",
      "2.2     1\n",
      "2.4     2\n",
      "2.6     3\n",
      "2.7     3\n",
      "2.8     3\n",
      "2.9     5\n",
      "3.0     5\n",
      "3.1     3\n",
      "3.3     6\n",
      "3.4     4\n",
      "3.5     6\n",
      "3.6     2\n",
      "3.7     3\n",
      "3.8     9\n",
      "3.9     8\n",
      "4.0    25\n",
      "4.1     8\n",
      "4.2    13\n",
      "4.3     7\n",
      "4.4     9\n",
      "4.5     4\n",
      "4.6     2\n",
      "4.7     1\n",
      "4.8     1\n",
      "4.9     2\n",
      "5.0     1\n",
      "5.3     1\n",
      "6.4     1\n",
      "?      16\n",
      "Name: Albumin, dtype: int64\n",
      "\n",
      "Protime\n",
      "0       1\n",
      "100    11\n",
      "21      1\n",
      "23      1\n",
      "29      2\n",
      "30      1\n",
      "31      3\n",
      "32      1\n",
      "35      2\n",
      "36      1\n",
      "38      1\n",
      "39      1\n",
      "40      1\n",
      "41      3\n",
      "42      1\n",
      "43      1\n",
      "46      4\n",
      "47      1\n",
      "48      1\n",
      "50      2\n",
      "51      1\n",
      "52      3\n",
      "54      3\n",
      "56      2\n",
      "57      3\n",
      "58      1\n",
      "60      2\n",
      "62      2\n",
      "63      2\n",
      "64      1\n",
      "66      4\n",
      "67      2\n",
      "70      2\n",
      "72      1\n",
      "73      2\n",
      "74      4\n",
      "75      1\n",
      "76      1\n",
      "77      1\n",
      "78      1\n",
      "80      1\n",
      "84      1\n",
      "85      4\n",
      "90      3\n",
      "?      67\n",
      "Name: Protime, dtype: int64\n",
      "\n"
     ]
    }
   ],
   "source": [
    "checa_distribuicao(dados_hepatite)"
   ]
  },
  {
   "cell_type": "markdown",
   "metadata": {},
   "source": [
    "## Tratamento de Valores Ausentes"
   ]
  },
  {
   "cell_type": "markdown",
   "metadata": {},
   "source": [
    "Possuimos um volume bem reduzido de dados, apenas 155 linhas, porem possuimos 15 colunas com valores missings, representado pelo valor '?', sendo assim analisarei estas 15 colunas para avalirar que estratégia usarei para ter o mínimo de perda de informação."
   ]
  },
  {
   "cell_type": "markdown",
   "metadata": {},
   "source": [
    "Primeiramente tratarei as variáveis com valores binários: Gender, Steroid, Fatigue, Malaise, Anorexia, LiverBig, LiverFirm, SpleenPalpable, Spiders, Ascites, Varices e Histology"
   ]
  },
  {
   "cell_type": "code",
   "execution_count": 17,
   "metadata": {},
   "outputs": [],
   "source": [
    "# Convertendo as variáveis 'Gender', 'Antivirals' e 'Histology' do tipo numeric para object\n",
    "dados_hepatite['Gender'] = dados_hepatite['Gender'].astype('object')\n",
    "dados_hepatite['Antivirals'] = dados_hepatite['Antivirals'].astype('object')\n",
    "dados_hepatite['Histology'] = dados_hepatite['Histology'].astype('object')"
   ]
  },
  {
   "cell_type": "code",
   "execution_count": 18,
   "metadata": {},
   "outputs": [
    {
     "data": {
      "text/plain": [
       "Index(['Gender', 'Steroid', 'Antivirals', 'Fatigue', 'Malaise', 'Anorexia',\n",
       "       'LiverBig', 'LiverFirm', 'SpleenPalpable', 'Spiders', 'Ascites',\n",
       "       'Varices', 'Bilirubin', 'AlkPhosphate', 'SGOT', 'Albumin', 'Protime',\n",
       "       'Histology'],\n",
       "      dtype='object')"
      ]
     },
     "execution_count": 18,
     "metadata": {},
     "output_type": "execute_result"
    }
   ],
   "source": [
    "# Extraindo variáveis do tipo categóricas\n",
    "dfcatname = dados_hepatite.dtypes[dados_hepatite.dtypes == 'object'].index\n",
    "dfcatname"
   ]
  },
  {
   "cell_type": "code",
   "execution_count": 19,
   "metadata": {},
   "outputs": [
    {
     "data": {
      "text/html": [
       "<div>\n",
       "<style scoped>\n",
       "    .dataframe tbody tr th:only-of-type {\n",
       "        vertical-align: middle;\n",
       "    }\n",
       "\n",
       "    .dataframe tbody tr th {\n",
       "        vertical-align: top;\n",
       "    }\n",
       "\n",
       "    .dataframe thead th {\n",
       "        text-align: right;\n",
       "    }\n",
       "</style>\n",
       "<table border=\"1\" class=\"dataframe\">\n",
       "  <thead>\n",
       "    <tr style=\"text-align: right;\">\n",
       "      <th></th>\n",
       "      <th>Gender</th>\n",
       "      <th>Steroid</th>\n",
       "      <th>Antivirals</th>\n",
       "      <th>Fatigue</th>\n",
       "      <th>Malaise</th>\n",
       "      <th>Anorexia</th>\n",
       "      <th>LiverBig</th>\n",
       "      <th>LiverFirm</th>\n",
       "      <th>SpleenPalpable</th>\n",
       "      <th>Spiders</th>\n",
       "      <th>Ascites</th>\n",
       "      <th>Varices</th>\n",
       "      <th>Bilirubin</th>\n",
       "      <th>AlkPhosphate</th>\n",
       "      <th>SGOT</th>\n",
       "      <th>Albumin</th>\n",
       "      <th>Protime</th>\n",
       "      <th>Histology</th>\n",
       "    </tr>\n",
       "  </thead>\n",
       "  <tbody>\n",
       "    <tr>\n",
       "      <th>count</th>\n",
       "      <td>155</td>\n",
       "      <td>155</td>\n",
       "      <td>155</td>\n",
       "      <td>155</td>\n",
       "      <td>155</td>\n",
       "      <td>155</td>\n",
       "      <td>155</td>\n",
       "      <td>155</td>\n",
       "      <td>155</td>\n",
       "      <td>155</td>\n",
       "      <td>155</td>\n",
       "      <td>155</td>\n",
       "      <td>155</td>\n",
       "      <td>155</td>\n",
       "      <td>155</td>\n",
       "      <td>155</td>\n",
       "      <td>155</td>\n",
       "      <td>155</td>\n",
       "    </tr>\n",
       "    <tr>\n",
       "      <th>unique</th>\n",
       "      <td>2</td>\n",
       "      <td>3</td>\n",
       "      <td>2</td>\n",
       "      <td>3</td>\n",
       "      <td>3</td>\n",
       "      <td>3</td>\n",
       "      <td>3</td>\n",
       "      <td>3</td>\n",
       "      <td>3</td>\n",
       "      <td>3</td>\n",
       "      <td>3</td>\n",
       "      <td>3</td>\n",
       "      <td>35</td>\n",
       "      <td>84</td>\n",
       "      <td>85</td>\n",
       "      <td>30</td>\n",
       "      <td>45</td>\n",
       "      <td>2</td>\n",
       "    </tr>\n",
       "    <tr>\n",
       "      <th>top</th>\n",
       "      <td>1</td>\n",
       "      <td>2</td>\n",
       "      <td>2</td>\n",
       "      <td>1</td>\n",
       "      <td>2</td>\n",
       "      <td>2</td>\n",
       "      <td>2</td>\n",
       "      <td>2</td>\n",
       "      <td>2</td>\n",
       "      <td>2</td>\n",
       "      <td>2</td>\n",
       "      <td>2</td>\n",
       "      <td>1.00</td>\n",
       "      <td>?</td>\n",
       "      <td>20</td>\n",
       "      <td>4.0</td>\n",
       "      <td>?</td>\n",
       "      <td>1</td>\n",
       "    </tr>\n",
       "    <tr>\n",
       "      <th>freq</th>\n",
       "      <td>139</td>\n",
       "      <td>78</td>\n",
       "      <td>131</td>\n",
       "      <td>100</td>\n",
       "      <td>93</td>\n",
       "      <td>122</td>\n",
       "      <td>120</td>\n",
       "      <td>84</td>\n",
       "      <td>120</td>\n",
       "      <td>99</td>\n",
       "      <td>130</td>\n",
       "      <td>132</td>\n",
       "      <td>29</td>\n",
       "      <td>29</td>\n",
       "      <td>7</td>\n",
       "      <td>25</td>\n",
       "      <td>67</td>\n",
       "      <td>85</td>\n",
       "    </tr>\n",
       "  </tbody>\n",
       "</table>\n",
       "</div>"
      ],
      "text/plain": [
       "        Gender Steroid  Antivirals Fatigue Malaise Anorexia LiverBig  \\\n",
       "count      155     155         155     155     155      155      155   \n",
       "unique       2       3           2       3       3        3        3   \n",
       "top          1       2           2       1       2        2        2   \n",
       "freq       139      78         131     100      93      122      120   \n",
       "\n",
       "       LiverFirm SpleenPalpable Spiders Ascites Varices Bilirubin  \\\n",
       "count        155            155     155     155     155       155   \n",
       "unique         3              3       3       3       3        35   \n",
       "top            2              2       2       2       2      1.00   \n",
       "freq          84            120      99     130     132        29   \n",
       "\n",
       "       AlkPhosphate SGOT Albumin Protime  Histology  \n",
       "count           155  155     155     155        155  \n",
       "unique           84   85      30      45          2  \n",
       "top               ?   20     4.0       ?          1  \n",
       "freq             29    7      25      67         85  "
      ]
     },
     "execution_count": 19,
     "metadata": {},
     "output_type": "execute_result"
    }
   ],
   "source": [
    "# Descrevendo as variáveis categóricas\n",
    "dados_hepatite[dfcatname].describe()"
   ]
  },
  {
   "cell_type": "code",
   "execution_count": 20,
   "metadata": {},
   "outputs": [],
   "source": [
    "df_hepatite = dados_hepatite"
   ]
  },
  {
   "cell_type": "markdown",
   "metadata": {},
   "source": [
    "Alterando o valores missings das variáveis categóricas Gender, Steroid, Fatigue, Malaise, Anorexia, LiverBig, LiverFirm, SpleenPalpable, Spiders, Ascites, Varices e Histology de '?' para NaN "
   ]
  },
  {
   "cell_type": "code",
   "execution_count": 21,
   "metadata": {},
   "outputs": [],
   "source": [
    "for col in dfcatname:\n",
    "    if df_hepatite[col].isin(['?']).any():\n",
    "        df_hepatite[col] = df_hepatite.apply(lambda row: np.nan if (row[col] == '?') else row[col], axis=1)"
   ]
  },
  {
   "cell_type": "code",
   "execution_count": 22,
   "metadata": {},
   "outputs": [],
   "source": [
    "# Convertendo as variáveis 'Bilirubin','AlkPhosphate','SGOT','Albumin' e 'Protime' do tipo object para numeric\n",
    "\n",
    "df_hepatite['Bilirubin'] = pd.to_numeric(df_hepatite['Bilirubin'])\n",
    "df_hepatite['AlkPhosphate'] = pd.to_numeric(df_hepatite['AlkPhosphate'])\n",
    "df_hepatite['SGOT'] = pd.to_numeric(df_hepatite['SGOT'])\n",
    "df_hepatite['Albumin'] = pd.to_numeric(df_hepatite['Albumin'])\n",
    "df_hepatite['Protime'] = pd.to_numeric(df_hepatite['Protime'])"
   ]
  },
  {
   "cell_type": "code",
   "execution_count": 23,
   "metadata": {},
   "outputs": [
    {
     "data": {
      "text/html": [
       "<div>\n",
       "<style scoped>\n",
       "    .dataframe tbody tr th:only-of-type {\n",
       "        vertical-align: middle;\n",
       "    }\n",
       "\n",
       "    .dataframe tbody tr th {\n",
       "        vertical-align: top;\n",
       "    }\n",
       "\n",
       "    .dataframe thead th {\n",
       "        text-align: right;\n",
       "    }\n",
       "</style>\n",
       "<table border=\"1\" class=\"dataframe\">\n",
       "  <thead>\n",
       "    <tr style=\"text-align: right;\">\n",
       "      <th></th>\n",
       "      <th>Class</th>\n",
       "      <th>Age</th>\n",
       "      <th>Gender</th>\n",
       "      <th>Steroid</th>\n",
       "      <th>Antivirals</th>\n",
       "      <th>Fatigue</th>\n",
       "      <th>Malaise</th>\n",
       "      <th>Anorexia</th>\n",
       "      <th>LiverBig</th>\n",
       "      <th>LiverFirm</th>\n",
       "      <th>SpleenPalpable</th>\n",
       "      <th>Spiders</th>\n",
       "      <th>Ascites</th>\n",
       "      <th>Varices</th>\n",
       "      <th>Bilirubin</th>\n",
       "      <th>AlkPhosphate</th>\n",
       "      <th>SGOT</th>\n",
       "      <th>Albumin</th>\n",
       "      <th>Protime</th>\n",
       "      <th>Histology</th>\n",
       "    </tr>\n",
       "  </thead>\n",
       "  <tbody>\n",
       "    <tr>\n",
       "      <th>0</th>\n",
       "      <td>2</td>\n",
       "      <td>30</td>\n",
       "      <td>2</td>\n",
       "      <td>1</td>\n",
       "      <td>2</td>\n",
       "      <td>2</td>\n",
       "      <td>2</td>\n",
       "      <td>2</td>\n",
       "      <td>1</td>\n",
       "      <td>2</td>\n",
       "      <td>2</td>\n",
       "      <td>2</td>\n",
       "      <td>2</td>\n",
       "      <td>2</td>\n",
       "      <td>1.0</td>\n",
       "      <td>85.0</td>\n",
       "      <td>18.0</td>\n",
       "      <td>4.0</td>\n",
       "      <td>NaN</td>\n",
       "      <td>1</td>\n",
       "    </tr>\n",
       "    <tr>\n",
       "      <th>1</th>\n",
       "      <td>2</td>\n",
       "      <td>50</td>\n",
       "      <td>1</td>\n",
       "      <td>1</td>\n",
       "      <td>2</td>\n",
       "      <td>1</td>\n",
       "      <td>2</td>\n",
       "      <td>2</td>\n",
       "      <td>1</td>\n",
       "      <td>2</td>\n",
       "      <td>2</td>\n",
       "      <td>2</td>\n",
       "      <td>2</td>\n",
       "      <td>2</td>\n",
       "      <td>0.9</td>\n",
       "      <td>135.0</td>\n",
       "      <td>42.0</td>\n",
       "      <td>3.5</td>\n",
       "      <td>NaN</td>\n",
       "      <td>1</td>\n",
       "    </tr>\n",
       "    <tr>\n",
       "      <th>2</th>\n",
       "      <td>2</td>\n",
       "      <td>78</td>\n",
       "      <td>1</td>\n",
       "      <td>2</td>\n",
       "      <td>2</td>\n",
       "      <td>1</td>\n",
       "      <td>2</td>\n",
       "      <td>2</td>\n",
       "      <td>2</td>\n",
       "      <td>2</td>\n",
       "      <td>2</td>\n",
       "      <td>2</td>\n",
       "      <td>2</td>\n",
       "      <td>2</td>\n",
       "      <td>0.7</td>\n",
       "      <td>96.0</td>\n",
       "      <td>32.0</td>\n",
       "      <td>4.0</td>\n",
       "      <td>NaN</td>\n",
       "      <td>1</td>\n",
       "    </tr>\n",
       "    <tr>\n",
       "      <th>3</th>\n",
       "      <td>2</td>\n",
       "      <td>31</td>\n",
       "      <td>1</td>\n",
       "      <td>NaN</td>\n",
       "      <td>1</td>\n",
       "      <td>2</td>\n",
       "      <td>2</td>\n",
       "      <td>2</td>\n",
       "      <td>2</td>\n",
       "      <td>2</td>\n",
       "      <td>2</td>\n",
       "      <td>2</td>\n",
       "      <td>2</td>\n",
       "      <td>2</td>\n",
       "      <td>0.7</td>\n",
       "      <td>46.0</td>\n",
       "      <td>52.0</td>\n",
       "      <td>4.0</td>\n",
       "      <td>80.0</td>\n",
       "      <td>1</td>\n",
       "    </tr>\n",
       "    <tr>\n",
       "      <th>4</th>\n",
       "      <td>2</td>\n",
       "      <td>34</td>\n",
       "      <td>1</td>\n",
       "      <td>2</td>\n",
       "      <td>2</td>\n",
       "      <td>2</td>\n",
       "      <td>2</td>\n",
       "      <td>2</td>\n",
       "      <td>2</td>\n",
       "      <td>2</td>\n",
       "      <td>2</td>\n",
       "      <td>2</td>\n",
       "      <td>2</td>\n",
       "      <td>2</td>\n",
       "      <td>1.0</td>\n",
       "      <td>NaN</td>\n",
       "      <td>200.0</td>\n",
       "      <td>4.0</td>\n",
       "      <td>NaN</td>\n",
       "      <td>1</td>\n",
       "    </tr>\n",
       "    <tr>\n",
       "      <th>5</th>\n",
       "      <td>2</td>\n",
       "      <td>34</td>\n",
       "      <td>1</td>\n",
       "      <td>2</td>\n",
       "      <td>2</td>\n",
       "      <td>2</td>\n",
       "      <td>2</td>\n",
       "      <td>2</td>\n",
       "      <td>2</td>\n",
       "      <td>2</td>\n",
       "      <td>2</td>\n",
       "      <td>2</td>\n",
       "      <td>2</td>\n",
       "      <td>2</td>\n",
       "      <td>0.9</td>\n",
       "      <td>95.0</td>\n",
       "      <td>28.0</td>\n",
       "      <td>4.0</td>\n",
       "      <td>75.0</td>\n",
       "      <td>1</td>\n",
       "    </tr>\n",
       "    <tr>\n",
       "      <th>6</th>\n",
       "      <td>1</td>\n",
       "      <td>51</td>\n",
       "      <td>1</td>\n",
       "      <td>1</td>\n",
       "      <td>2</td>\n",
       "      <td>1</td>\n",
       "      <td>2</td>\n",
       "      <td>1</td>\n",
       "      <td>2</td>\n",
       "      <td>2</td>\n",
       "      <td>1</td>\n",
       "      <td>1</td>\n",
       "      <td>2</td>\n",
       "      <td>2</td>\n",
       "      <td>NaN</td>\n",
       "      <td>NaN</td>\n",
       "      <td>NaN</td>\n",
       "      <td>NaN</td>\n",
       "      <td>NaN</td>\n",
       "      <td>1</td>\n",
       "    </tr>\n",
       "    <tr>\n",
       "      <th>7</th>\n",
       "      <td>2</td>\n",
       "      <td>23</td>\n",
       "      <td>1</td>\n",
       "      <td>2</td>\n",
       "      <td>2</td>\n",
       "      <td>2</td>\n",
       "      <td>2</td>\n",
       "      <td>2</td>\n",
       "      <td>2</td>\n",
       "      <td>2</td>\n",
       "      <td>2</td>\n",
       "      <td>2</td>\n",
       "      <td>2</td>\n",
       "      <td>2</td>\n",
       "      <td>1.0</td>\n",
       "      <td>NaN</td>\n",
       "      <td>NaN</td>\n",
       "      <td>NaN</td>\n",
       "      <td>NaN</td>\n",
       "      <td>1</td>\n",
       "    </tr>\n",
       "    <tr>\n",
       "      <th>8</th>\n",
       "      <td>2</td>\n",
       "      <td>39</td>\n",
       "      <td>1</td>\n",
       "      <td>2</td>\n",
       "      <td>2</td>\n",
       "      <td>1</td>\n",
       "      <td>2</td>\n",
       "      <td>2</td>\n",
       "      <td>2</td>\n",
       "      <td>1</td>\n",
       "      <td>2</td>\n",
       "      <td>2</td>\n",
       "      <td>2</td>\n",
       "      <td>2</td>\n",
       "      <td>0.7</td>\n",
       "      <td>NaN</td>\n",
       "      <td>48.0</td>\n",
       "      <td>4.4</td>\n",
       "      <td>NaN</td>\n",
       "      <td>1</td>\n",
       "    </tr>\n",
       "    <tr>\n",
       "      <th>9</th>\n",
       "      <td>2</td>\n",
       "      <td>30</td>\n",
       "      <td>1</td>\n",
       "      <td>2</td>\n",
       "      <td>2</td>\n",
       "      <td>2</td>\n",
       "      <td>2</td>\n",
       "      <td>2</td>\n",
       "      <td>2</td>\n",
       "      <td>2</td>\n",
       "      <td>2</td>\n",
       "      <td>2</td>\n",
       "      <td>2</td>\n",
       "      <td>2</td>\n",
       "      <td>1.0</td>\n",
       "      <td>NaN</td>\n",
       "      <td>120.0</td>\n",
       "      <td>3.9</td>\n",
       "      <td>NaN</td>\n",
       "      <td>1</td>\n",
       "    </tr>\n",
       "  </tbody>\n",
       "</table>\n",
       "</div>"
      ],
      "text/plain": [
       "   Class  Age Gender Steroid Antivirals Fatigue Malaise Anorexia LiverBig  \\\n",
       "0      2   30      2       1          2       2       2        2        1   \n",
       "1      2   50      1       1          2       1       2        2        1   \n",
       "2      2   78      1       2          2       1       2        2        2   \n",
       "3      2   31      1     NaN          1       2       2        2        2   \n",
       "4      2   34      1       2          2       2       2        2        2   \n",
       "5      2   34      1       2          2       2       2        2        2   \n",
       "6      1   51      1       1          2       1       2        1        2   \n",
       "7      2   23      1       2          2       2       2        2        2   \n",
       "8      2   39      1       2          2       1       2        2        2   \n",
       "9      2   30      1       2          2       2       2        2        2   \n",
       "\n",
       "  LiverFirm SpleenPalpable Spiders Ascites Varices  Bilirubin  AlkPhosphate  \\\n",
       "0         2              2       2       2       2        1.0          85.0   \n",
       "1         2              2       2       2       2        0.9         135.0   \n",
       "2         2              2       2       2       2        0.7          96.0   \n",
       "3         2              2       2       2       2        0.7          46.0   \n",
       "4         2              2       2       2       2        1.0           NaN   \n",
       "5         2              2       2       2       2        0.9          95.0   \n",
       "6         2              1       1       2       2        NaN           NaN   \n",
       "7         2              2       2       2       2        1.0           NaN   \n",
       "8         1              2       2       2       2        0.7           NaN   \n",
       "9         2              2       2       2       2        1.0           NaN   \n",
       "\n",
       "    SGOT  Albumin  Protime Histology  \n",
       "0   18.0      4.0      NaN         1  \n",
       "1   42.0      3.5      NaN         1  \n",
       "2   32.0      4.0      NaN         1  \n",
       "3   52.0      4.0     80.0         1  \n",
       "4  200.0      4.0      NaN         1  \n",
       "5   28.0      4.0     75.0         1  \n",
       "6    NaN      NaN      NaN         1  \n",
       "7    NaN      NaN      NaN         1  \n",
       "8   48.0      4.4      NaN         1  \n",
       "9  120.0      3.9      NaN         1  "
      ]
     },
     "execution_count": 23,
     "metadata": {},
     "output_type": "execute_result"
    }
   ],
   "source": [
    "df_hepatite.head(10)"
   ]
  },
  {
   "cell_type": "code",
   "execution_count": 24,
   "metadata": {},
   "outputs": [
    {
     "name": "stdout",
     "output_type": "stream",
     "text": [
      "<class 'pandas.core.frame.DataFrame'>\n",
      "RangeIndex: 155 entries, 0 to 154\n",
      "Data columns (total 20 columns):\n",
      " #   Column          Non-Null Count  Dtype  \n",
      "---  ------          --------------  -----  \n",
      " 0   Class           155 non-null    int64  \n",
      " 1   Age             155 non-null    int64  \n",
      " 2   Gender          155 non-null    object \n",
      " 3   Steroid         154 non-null    object \n",
      " 4   Antivirals      155 non-null    object \n",
      " 5   Fatigue         154 non-null    object \n",
      " 6   Malaise         154 non-null    object \n",
      " 7   Anorexia        154 non-null    object \n",
      " 8   LiverBig        145 non-null    object \n",
      " 9   LiverFirm       144 non-null    object \n",
      " 10  SpleenPalpable  150 non-null    object \n",
      " 11  Spiders         150 non-null    object \n",
      " 12  Ascites         150 non-null    object \n",
      " 13  Varices         150 non-null    object \n",
      " 14  Bilirubin       149 non-null    float64\n",
      " 15  AlkPhosphate    126 non-null    float64\n",
      " 16  SGOT            151 non-null    float64\n",
      " 17  Albumin         139 non-null    float64\n",
      " 18  Protime         88 non-null     float64\n",
      " 19  Histology       155 non-null    object \n",
      "dtypes: float64(5), int64(2), object(13)\n",
      "memory usage: 24.3+ KB\n"
     ]
    }
   ],
   "source": [
    "df_hepatite.info()"
   ]
  },
  {
   "cell_type": "code",
   "execution_count": 25,
   "metadata": {},
   "outputs": [
    {
     "data": {
      "text/plain": [
       "Index(['Gender', 'Steroid', 'Antivirals', 'Fatigue', 'Malaise', 'Anorexia',\n",
       "       'LiverBig', 'LiverFirm', 'SpleenPalpable', 'Spiders', 'Ascites',\n",
       "       'Varices', 'Histology'],\n",
       "      dtype='object')"
      ]
     },
     "execution_count": 25,
     "metadata": {},
     "output_type": "execute_result"
    }
   ],
   "source": [
    "# Extraindo variáveis do tipo categóricas\n",
    "dfcatname = df_hepatite.dtypes[df_hepatite.dtypes == 'object'].index\n",
    "dfcatname"
   ]
  },
  {
   "cell_type": "code",
   "execution_count": 26,
   "metadata": {},
   "outputs": [
    {
     "data": {
      "text/html": [
       "<div>\n",
       "<style scoped>\n",
       "    .dataframe tbody tr th:only-of-type {\n",
       "        vertical-align: middle;\n",
       "    }\n",
       "\n",
       "    .dataframe tbody tr th {\n",
       "        vertical-align: top;\n",
       "    }\n",
       "\n",
       "    .dataframe thead th {\n",
       "        text-align: right;\n",
       "    }\n",
       "</style>\n",
       "<table border=\"1\" class=\"dataframe\">\n",
       "  <thead>\n",
       "    <tr style=\"text-align: right;\">\n",
       "      <th></th>\n",
       "      <th>Gender</th>\n",
       "      <th>Steroid</th>\n",
       "      <th>Antivirals</th>\n",
       "      <th>Fatigue</th>\n",
       "      <th>Malaise</th>\n",
       "      <th>Anorexia</th>\n",
       "      <th>LiverBig</th>\n",
       "      <th>LiverFirm</th>\n",
       "      <th>SpleenPalpable</th>\n",
       "      <th>Spiders</th>\n",
       "      <th>Ascites</th>\n",
       "      <th>Varices</th>\n",
       "      <th>Histology</th>\n",
       "    </tr>\n",
       "  </thead>\n",
       "  <tbody>\n",
       "    <tr>\n",
       "      <th>0</th>\n",
       "      <td>2</td>\n",
       "      <td>1</td>\n",
       "      <td>2</td>\n",
       "      <td>2</td>\n",
       "      <td>2</td>\n",
       "      <td>2</td>\n",
       "      <td>1</td>\n",
       "      <td>2</td>\n",
       "      <td>2</td>\n",
       "      <td>2</td>\n",
       "      <td>2</td>\n",
       "      <td>2</td>\n",
       "      <td>1</td>\n",
       "    </tr>\n",
       "    <tr>\n",
       "      <th>1</th>\n",
       "      <td>1</td>\n",
       "      <td>1</td>\n",
       "      <td>2</td>\n",
       "      <td>1</td>\n",
       "      <td>2</td>\n",
       "      <td>2</td>\n",
       "      <td>1</td>\n",
       "      <td>2</td>\n",
       "      <td>2</td>\n",
       "      <td>2</td>\n",
       "      <td>2</td>\n",
       "      <td>2</td>\n",
       "      <td>1</td>\n",
       "    </tr>\n",
       "    <tr>\n",
       "      <th>2</th>\n",
       "      <td>1</td>\n",
       "      <td>2</td>\n",
       "      <td>2</td>\n",
       "      <td>1</td>\n",
       "      <td>2</td>\n",
       "      <td>2</td>\n",
       "      <td>2</td>\n",
       "      <td>2</td>\n",
       "      <td>2</td>\n",
       "      <td>2</td>\n",
       "      <td>2</td>\n",
       "      <td>2</td>\n",
       "      <td>1</td>\n",
       "    </tr>\n",
       "    <tr>\n",
       "      <th>3</th>\n",
       "      <td>1</td>\n",
       "      <td>NaN</td>\n",
       "      <td>1</td>\n",
       "      <td>2</td>\n",
       "      <td>2</td>\n",
       "      <td>2</td>\n",
       "      <td>2</td>\n",
       "      <td>2</td>\n",
       "      <td>2</td>\n",
       "      <td>2</td>\n",
       "      <td>2</td>\n",
       "      <td>2</td>\n",
       "      <td>1</td>\n",
       "    </tr>\n",
       "    <tr>\n",
       "      <th>4</th>\n",
       "      <td>1</td>\n",
       "      <td>2</td>\n",
       "      <td>2</td>\n",
       "      <td>2</td>\n",
       "      <td>2</td>\n",
       "      <td>2</td>\n",
       "      <td>2</td>\n",
       "      <td>2</td>\n",
       "      <td>2</td>\n",
       "      <td>2</td>\n",
       "      <td>2</td>\n",
       "      <td>2</td>\n",
       "      <td>1</td>\n",
       "    </tr>\n",
       "    <tr>\n",
       "      <th>...</th>\n",
       "      <td>...</td>\n",
       "      <td>...</td>\n",
       "      <td>...</td>\n",
       "      <td>...</td>\n",
       "      <td>...</td>\n",
       "      <td>...</td>\n",
       "      <td>...</td>\n",
       "      <td>...</td>\n",
       "      <td>...</td>\n",
       "      <td>...</td>\n",
       "      <td>...</td>\n",
       "      <td>...</td>\n",
       "      <td>...</td>\n",
       "    </tr>\n",
       "    <tr>\n",
       "      <th>150</th>\n",
       "      <td>1</td>\n",
       "      <td>2</td>\n",
       "      <td>2</td>\n",
       "      <td>1</td>\n",
       "      <td>1</td>\n",
       "      <td>1</td>\n",
       "      <td>2</td>\n",
       "      <td>2</td>\n",
       "      <td>2</td>\n",
       "      <td>1</td>\n",
       "      <td>1</td>\n",
       "      <td>1</td>\n",
       "      <td>2</td>\n",
       "    </tr>\n",
       "    <tr>\n",
       "      <th>151</th>\n",
       "      <td>1</td>\n",
       "      <td>2</td>\n",
       "      <td>2</td>\n",
       "      <td>1</td>\n",
       "      <td>2</td>\n",
       "      <td>2</td>\n",
       "      <td>2</td>\n",
       "      <td>1</td>\n",
       "      <td>2</td>\n",
       "      <td>2</td>\n",
       "      <td>2</td>\n",
       "      <td>2</td>\n",
       "      <td>2</td>\n",
       "    </tr>\n",
       "    <tr>\n",
       "      <th>152</th>\n",
       "      <td>1</td>\n",
       "      <td>1</td>\n",
       "      <td>2</td>\n",
       "      <td>1</td>\n",
       "      <td>1</td>\n",
       "      <td>2</td>\n",
       "      <td>1</td>\n",
       "      <td>1</td>\n",
       "      <td>2</td>\n",
       "      <td>1</td>\n",
       "      <td>2</td>\n",
       "      <td>2</td>\n",
       "      <td>2</td>\n",
       "    </tr>\n",
       "    <tr>\n",
       "      <th>153</th>\n",
       "      <td>2</td>\n",
       "      <td>1</td>\n",
       "      <td>2</td>\n",
       "      <td>1</td>\n",
       "      <td>2</td>\n",
       "      <td>2</td>\n",
       "      <td>2</td>\n",
       "      <td>2</td>\n",
       "      <td>1</td>\n",
       "      <td>1</td>\n",
       "      <td>2</td>\n",
       "      <td>1</td>\n",
       "      <td>2</td>\n",
       "    </tr>\n",
       "    <tr>\n",
       "      <th>154</th>\n",
       "      <td>1</td>\n",
       "      <td>2</td>\n",
       "      <td>2</td>\n",
       "      <td>1</td>\n",
       "      <td>2</td>\n",
       "      <td>2</td>\n",
       "      <td>2</td>\n",
       "      <td>2</td>\n",
       "      <td>1</td>\n",
       "      <td>1</td>\n",
       "      <td>1</td>\n",
       "      <td>2</td>\n",
       "      <td>2</td>\n",
       "    </tr>\n",
       "  </tbody>\n",
       "</table>\n",
       "<p>155 rows × 13 columns</p>\n",
       "</div>"
      ],
      "text/plain": [
       "    Gender Steroid Antivirals Fatigue Malaise Anorexia LiverBig LiverFirm  \\\n",
       "0        2       1          2       2       2        2        1         2   \n",
       "1        1       1          2       1       2        2        1         2   \n",
       "2        1       2          2       1       2        2        2         2   \n",
       "3        1     NaN          1       2       2        2        2         2   \n",
       "4        1       2          2       2       2        2        2         2   \n",
       "..     ...     ...        ...     ...     ...      ...      ...       ...   \n",
       "150      1       2          2       1       1        1        2         2   \n",
       "151      1       2          2       1       2        2        2         1   \n",
       "152      1       1          2       1       1        2        1         1   \n",
       "153      2       1          2       1       2        2        2         2   \n",
       "154      1       2          2       1       2        2        2         2   \n",
       "\n",
       "    SpleenPalpable Spiders Ascites Varices Histology  \n",
       "0                2       2       2       2         1  \n",
       "1                2       2       2       2         1  \n",
       "2                2       2       2       2         1  \n",
       "3                2       2       2       2         1  \n",
       "4                2       2       2       2         1  \n",
       "..             ...     ...     ...     ...       ...  \n",
       "150              2       1       1       1         2  \n",
       "151              2       2       2       2         2  \n",
       "152              2       1       2       2         2  \n",
       "153              1       1       2       1         2  \n",
       "154              1       1       1       2         2  \n",
       "\n",
       "[155 rows x 13 columns]"
      ]
     },
     "execution_count": 26,
     "metadata": {},
     "output_type": "execute_result"
    }
   ],
   "source": [
    "df_hepatite[dfcatname]"
   ]
  },
  {
   "cell_type": "code",
   "execution_count": 27,
   "metadata": {},
   "outputs": [],
   "source": [
    "# Imputando recursos multivariados para os valores missings das variáveis categoricas, utilizando como estimador a regressão baseada em k-vizinhos mais próximos\n",
    "X = df_hepatite[dfcatname].values\n",
    "imp = IterativeImputer(estimator=KNeighborsRegressor(n_neighbors=5), max_iter=100, \n",
    "                       imputation_order='random', initial_strategy='median', random_state=42)\n",
    "imp.fit(X)\n",
    "X = imp.transform(X)"
   ]
  },
  {
   "cell_type": "code",
   "execution_count": 28,
   "metadata": {},
   "outputs": [],
   "source": [
    "columns = df_hepatite[dfcatname].columns\n",
    "indexs  = df_hepatite[dfcatname].index\n",
    "df_hepatite_imput_cat = pd.DataFrame(X, columns=columns, index=indexs)"
   ]
  },
  {
   "cell_type": "code",
   "execution_count": 29,
   "metadata": {},
   "outputs": [
    {
     "name": "stdout",
     "output_type": "stream",
     "text": [
      "<class 'pandas.core.frame.DataFrame'>\n",
      "RangeIndex: 155 entries, 0 to 154\n",
      "Data columns (total 13 columns):\n",
      " #   Column          Non-Null Count  Dtype  \n",
      "---  ------          --------------  -----  \n",
      " 0   Gender          155 non-null    float64\n",
      " 1   Steroid         155 non-null    float64\n",
      " 2   Antivirals      155 non-null    float64\n",
      " 3   Fatigue         155 non-null    float64\n",
      " 4   Malaise         155 non-null    float64\n",
      " 5   Anorexia        155 non-null    float64\n",
      " 6   LiverBig        155 non-null    float64\n",
      " 7   LiverFirm       155 non-null    float64\n",
      " 8   SpleenPalpable  155 non-null    float64\n",
      " 9   Spiders         155 non-null    float64\n",
      " 10  Ascites         155 non-null    float64\n",
      " 11  Varices         155 non-null    float64\n",
      " 12  Histology       155 non-null    float64\n",
      "dtypes: float64(13)\n",
      "memory usage: 15.9 KB\n"
     ]
    }
   ],
   "source": [
    "df_hepatite_imput_cat.info()"
   ]
  },
  {
   "cell_type": "code",
   "execution_count": 30,
   "metadata": {},
   "outputs": [],
   "source": [
    "# atribuindo os valores inputados \n",
    "df_hepatite[dfcatname] = df_hepatite_imput_cat.round(0).astype('object')"
   ]
  },
  {
   "cell_type": "markdown",
   "metadata": {},
   "source": [
    "### Avaliando diferentes estimadores para imputação de dados nas colunas numericas que possuem dados missings\n",
    "\n",
    "O objetivo é comparar diferentes estimadores para ver o que melhor se adequa ao conjunto de dados de Pacientes com Hepatite"
   ]
  },
  {
   "cell_type": "code",
   "execution_count": 31,
   "metadata": {},
   "outputs": [
    {
     "data": {
      "text/plain": [
       "Index(['Bilirubin', 'AlkPhosphate', 'SGOT', 'Albumin', 'Protime'], dtype='object')"
      ]
     },
     "execution_count": 31,
     "metadata": {},
     "output_type": "execute_result"
    }
   ],
   "source": [
    "# Extraindo variáveis do tipo numérica\n",
    "dfnumname = df_hepatite.dtypes[df_hepatite.dtypes == 'float64'].index\n",
    "dfnumname"
   ]
  },
  {
   "cell_type": "code",
   "execution_count": 32,
   "metadata": {},
   "outputs": [],
   "source": [
    "# Eliminando os registros que não possuem algum tipo de exames que identificam problemas no fígado\n",
    "selRows = df_hepatite[(df_hepatite['Protime'].isna()) & (df_hepatite['Albumin'].isna()) & (df_hepatite['SGOT'].isna()) & (df_hepatite['AlkPhosphate'].isna()) & (df_hepatite['Bilirubin'].isna())].index\n",
    "df_hepatite = df_hepatite.drop(selRows, axis=0)"
   ]
  },
  {
   "cell_type": "code",
   "execution_count": 33,
   "metadata": {},
   "outputs": [],
   "source": [
    "# Excluindo a linhas que possuem algum tipo de valor nulo\n",
    "NullRows = df_hepatite[df_hepatite.isnull().any(axis=1)].index\n",
    "df_full = df_hepatite.drop(NullRows, axis=0)"
   ]
  },
  {
   "cell_type": "code",
   "execution_count": 34,
   "metadata": {},
   "outputs": [
    {
     "name": "stdout",
     "output_type": "stream",
     "text": [
      "Int64Index([  0,   1,   2,   4,   7,   8,   9,  14,  16,  26,  31,  35,  37,\n",
      "             41,  44,  45,  46,  50,  51,  55,  59,  65,  66,  67,  69,  70,\n",
      "             71,  72,  73,  74,  76,  79,  80,  83,  86,  87,  88,  91,  92,\n",
      "             93,  97,  99, 101, 105, 106, 107, 110, 112, 113, 114, 115, 116,\n",
      "            119, 120, 122, 123, 126, 131, 132, 136, 140, 142, 144, 146, 148,\n",
      "            149, 150, 151, 152],\n",
      "           dtype='int64')\n"
     ]
    }
   ],
   "source": [
    "print(df_hepatite[df_hepatite.isnull().any(axis=1)].index)"
   ]
  },
  {
   "cell_type": "code",
   "execution_count": 35,
   "metadata": {},
   "outputs": [
    {
     "data": {
      "text/plain": [
       "2    68\n",
       "1    15\n",
       "Name: Class, dtype: int64"
      ]
     },
     "execution_count": 35,
     "metadata": {},
     "output_type": "execute_result"
    }
   ],
   "source": [
    "df_full['Class'].value_counts()"
   ]
  },
  {
   "cell_type": "code",
   "execution_count": 36,
   "metadata": {},
   "outputs": [],
   "source": [
    "X_full = df_full[dfnumname].values\n",
    "y_full = df_full['Class'].values\n",
    "X_missing = df_hepatite[dfnumname].values\n",
    "y_missing = df_hepatite['Class'].values"
   ]
  },
  {
   "cell_type": "code",
   "execution_count": 37,
   "metadata": {},
   "outputs": [],
   "source": [
    "br_estimator = BayesianRidge()\n",
    "N_SPLITS = 5"
   ]
  },
  {
   "cell_type": "code",
   "execution_count": 38,
   "metadata": {},
   "outputs": [
    {
     "data": {
      "image/png": "[encoded data removed]",
      "text/plain": [
       "<Figure size 936x432 with 1 Axes>"
      ]
     },
     "metadata": {},
     "output_type": "display_data"
    }
   ],
   "source": [
    "score_full_data = pd.DataFrame(\n",
    "    cross_val_score(\n",
    "        br_estimator, X_full, y_full, scoring='neg_mean_squared_error',\n",
    "        cv=N_SPLITS\n",
    "    ),\n",
    "    columns=['Full Data']\n",
    ")\n",
    "\n",
    "\n",
    "\n",
    "# Estimate the score after iterative imputation of the missing values\n",
    "# with different estimators\n",
    "estimators = [\n",
    "    BayesianRidge(),\n",
    "    DecisionTreeRegressor(max_features='log2', random_state=42),\n",
    "    ExtraTreesRegressor(n_estimators=10, random_state=42),\n",
    "    KNeighborsRegressor(n_neighbors=5)\n",
    "]\n",
    "score_iterative_imputer = pd.DataFrame()\n",
    "for impute_estimator in estimators:\n",
    "    estimator = make_pipeline(\n",
    "        IterativeImputer(max_iter=500, random_state=23, estimator=impute_estimator),\n",
    "        br_estimator\n",
    "    )\n",
    "    score_iterative_imputer[impute_estimator.__class__.__name__] = \\\n",
    "        cross_val_score(\n",
    "            estimator, X_missing, y_missing, scoring='neg_mean_squared_error',\n",
    "            cv=N_SPLITS\n",
    "        )\n",
    "\n",
    "scores = pd.concat(\n",
    "    [score_full_data, score_iterative_imputer],\n",
    "    keys=['Original', 'IterativeImputer'], axis=1\n",
    ")\n",
    "\n",
    "# Visualiando o resultado\n",
    "fig, ax = plt.subplots(figsize=(13, 6))\n",
    "means = -scores.mean()\n",
    "errors = scores.std()\n",
    "means.plot.barh(xerr=errors, ax=ax)\n",
    "ax.set_title('Dados de Pacientes com Hepatite com Diferent Métodos de Imputação')\n",
    "ax.set_xlabel('MSE (menor é melhor)')\n",
    "ax.set_yticks(np.arange(means.shape[0]))\n",
    "ax.set_yticklabels([\" w/ \".join(label) for label in means.index.tolist()])\n",
    "plt.tight_layout(pad=1)\n",
    "plt.show()"
   ]
  },
  {
   "cell_type": "code",
   "execution_count": 39,
   "metadata": {},
   "outputs": [],
   "source": [
    "# Para esse conjunto de dadoso melhor estimador foi DecisionTreeRegressor\n",
    "\n",
    "X = df_hepatite[dfnumname].values\n",
    "imp = IterativeImputer(estimator=DecisionTreeRegressor(max_features='sqrt', random_state=42), max_iter=500, random_state=23)\n",
    "imp.fit(X)\n",
    "X = imp.transform(X)"
   ]
  },
  {
   "cell_type": "code",
   "execution_count": 40,
   "metadata": {},
   "outputs": [],
   "source": [
    "columns = df_hepatite[dfnumname].columns\n",
    "indexs  = df_hepatite[dfnumname].index\n",
    "df_hepatite_imput_num = pd.DataFrame(X, columns=columns, index=indexs)"
   ]
  },
  {
   "cell_type": "code",
   "execution_count": 41,
   "metadata": {},
   "outputs": [],
   "source": [
    "# atribuindo os valores inputados \n",
    "df_hepatite[dfnumname] = df_hepatite_imput_num"
   ]
  },
  {
   "cell_type": "code",
   "execution_count": 42,
   "metadata": {},
   "outputs": [
    {
     "name": "stdout",
     "output_type": "stream",
     "text": [
      "<class 'pandas.core.frame.DataFrame'>\n",
      "Int64Index: 152 entries, 0 to 154\n",
      "Data columns (total 20 columns):\n",
      " #   Column          Non-Null Count  Dtype  \n",
      "---  ------          --------------  -----  \n",
      " 0   Class           152 non-null    int64  \n",
      " 1   Age             152 non-null    int64  \n",
      " 2   Gender          152 non-null    object \n",
      " 3   Steroid         152 non-null    object \n",
      " 4   Antivirals      152 non-null    object \n",
      " 5   Fatigue         152 non-null    object \n",
      " 6   Malaise         152 non-null    object \n",
      " 7   Anorexia        152 non-null    object \n",
      " 8   LiverBig        152 non-null    object \n",
      " 9   LiverFirm       152 non-null    object \n",
      " 10  SpleenPalpable  152 non-null    object \n",
      " 11  Spiders         152 non-null    object \n",
      " 12  Ascites         152 non-null    object \n",
      " 13  Varices         152 non-null    object \n",
      " 14  Bilirubin       152 non-null    float64\n",
      " 15  AlkPhosphate    152 non-null    float64\n",
      " 16  SGOT            152 non-null    float64\n",
      " 17  Albumin         152 non-null    float64\n",
      " 18  Protime         152 non-null    float64\n",
      " 19  Histology       152 non-null    object \n",
      "dtypes: float64(5), int64(2), object(13)\n",
      "memory usage: 29.9+ KB\n"
     ]
    }
   ],
   "source": [
    "df_hepatite.info()"
   ]
  },
  {
   "cell_type": "markdown",
   "metadata": {},
   "source": [
    "### Aplicando transformação nos dados"
   ]
  },
  {
   "cell_type": "code",
   "execution_count": 43,
   "metadata": {},
   "outputs": [],
   "source": [
    "# Aplicando One-Hot Encoding nas colunas categorias. \n",
    "dataset_novos_dados = pd.get_dummies(df_hepatite[dfcatname], columns = dfcatname, prefix = dfcatname)"
   ]
  },
  {
   "cell_type": "code",
   "execution_count": 44,
   "metadata": {},
   "outputs": [
    {
     "data": {
      "text/html": [
       "<div>\n",
       "<style scoped>\n",
       "    .dataframe tbody tr th:only-of-type {\n",
       "        vertical-align: middle;\n",
       "    }\n",
       "\n",
       "    .dataframe tbody tr th {\n",
       "        vertical-align: top;\n",
       "    }\n",
       "\n",
       "    .dataframe thead th {\n",
       "        text-align: right;\n",
       "    }\n",
       "</style>\n",
       "<table border=\"1\" class=\"dataframe\">\n",
       "  <thead>\n",
       "    <tr style=\"text-align: right;\">\n",
       "      <th></th>\n",
       "      <th>Gender_1.0</th>\n",
       "      <th>Gender_2.0</th>\n",
       "      <th>Steroid_1.0</th>\n",
       "      <th>Steroid_2.0</th>\n",
       "      <th>Antivirals_1.0</th>\n",
       "      <th>Antivirals_2.0</th>\n",
       "      <th>Fatigue_1.0</th>\n",
       "      <th>Fatigue_2.0</th>\n",
       "      <th>Malaise_1.0</th>\n",
       "      <th>Malaise_2.0</th>\n",
       "      <th>...</th>\n",
       "      <th>SpleenPalpable_1.0</th>\n",
       "      <th>SpleenPalpable_2.0</th>\n",
       "      <th>Spiders_1.0</th>\n",
       "      <th>Spiders_2.0</th>\n",
       "      <th>Ascites_1.0</th>\n",
       "      <th>Ascites_2.0</th>\n",
       "      <th>Varices_1.0</th>\n",
       "      <th>Varices_2.0</th>\n",
       "      <th>Histology_1.0</th>\n",
       "      <th>Histology_2.0</th>\n",
       "    </tr>\n",
       "  </thead>\n",
       "  <tbody>\n",
       "    <tr>\n",
       "      <th>0</th>\n",
       "      <td>0</td>\n",
       "      <td>1</td>\n",
       "      <td>1</td>\n",
       "      <td>0</td>\n",
       "      <td>0</td>\n",
       "      <td>1</td>\n",
       "      <td>0</td>\n",
       "      <td>1</td>\n",
       "      <td>0</td>\n",
       "      <td>1</td>\n",
       "      <td>...</td>\n",
       "      <td>0</td>\n",
       "      <td>1</td>\n",
       "      <td>0</td>\n",
       "      <td>1</td>\n",
       "      <td>0</td>\n",
       "      <td>1</td>\n",
       "      <td>0</td>\n",
       "      <td>1</td>\n",
       "      <td>1</td>\n",
       "      <td>0</td>\n",
       "    </tr>\n",
       "    <tr>\n",
       "      <th>1</th>\n",
       "      <td>1</td>\n",
       "      <td>0</td>\n",
       "      <td>1</td>\n",
       "      <td>0</td>\n",
       "      <td>0</td>\n",
       "      <td>1</td>\n",
       "      <td>1</td>\n",
       "      <td>0</td>\n",
       "      <td>0</td>\n",
       "      <td>1</td>\n",
       "      <td>...</td>\n",
       "      <td>0</td>\n",
       "      <td>1</td>\n",
       "      <td>0</td>\n",
       "      <td>1</td>\n",
       "      <td>0</td>\n",
       "      <td>1</td>\n",
       "      <td>0</td>\n",
       "      <td>1</td>\n",
       "      <td>1</td>\n",
       "      <td>0</td>\n",
       "    </tr>\n",
       "    <tr>\n",
       "      <th>2</th>\n",
       "      <td>1</td>\n",
       "      <td>0</td>\n",
       "      <td>0</td>\n",
       "      <td>1</td>\n",
       "      <td>0</td>\n",
       "      <td>1</td>\n",
       "      <td>1</td>\n",
       "      <td>0</td>\n",
       "      <td>0</td>\n",
       "      <td>1</td>\n",
       "      <td>...</td>\n",
       "      <td>0</td>\n",
       "      <td>1</td>\n",
       "      <td>0</td>\n",
       "      <td>1</td>\n",
       "      <td>0</td>\n",
       "      <td>1</td>\n",
       "      <td>0</td>\n",
       "      <td>1</td>\n",
       "      <td>1</td>\n",
       "      <td>0</td>\n",
       "    </tr>\n",
       "    <tr>\n",
       "      <th>3</th>\n",
       "      <td>1</td>\n",
       "      <td>0</td>\n",
       "      <td>0</td>\n",
       "      <td>1</td>\n",
       "      <td>1</td>\n",
       "      <td>0</td>\n",
       "      <td>0</td>\n",
       "      <td>1</td>\n",
       "      <td>0</td>\n",
       "      <td>1</td>\n",
       "      <td>...</td>\n",
       "      <td>0</td>\n",
       "      <td>1</td>\n",
       "      <td>0</td>\n",
       "      <td>1</td>\n",
       "      <td>0</td>\n",
       "      <td>1</td>\n",
       "      <td>0</td>\n",
       "      <td>1</td>\n",
       "      <td>1</td>\n",
       "      <td>0</td>\n",
       "    </tr>\n",
       "    <tr>\n",
       "      <th>4</th>\n",
       "      <td>1</td>\n",
       "      <td>0</td>\n",
       "      <td>0</td>\n",
       "      <td>1</td>\n",
       "      <td>0</td>\n",
       "      <td>1</td>\n",
       "      <td>0</td>\n",
       "      <td>1</td>\n",
       "      <td>0</td>\n",
       "      <td>1</td>\n",
       "      <td>...</td>\n",
       "      <td>0</td>\n",
       "      <td>1</td>\n",
       "      <td>0</td>\n",
       "      <td>1</td>\n",
       "      <td>0</td>\n",
       "      <td>1</td>\n",
       "      <td>0</td>\n",
       "      <td>1</td>\n",
       "      <td>1</td>\n",
       "      <td>0</td>\n",
       "    </tr>\n",
       "    <tr>\n",
       "      <th>...</th>\n",
       "      <td>...</td>\n",
       "      <td>...</td>\n",
       "      <td>...</td>\n",
       "      <td>...</td>\n",
       "      <td>...</td>\n",
       "      <td>...</td>\n",
       "      <td>...</td>\n",
       "      <td>...</td>\n",
       "      <td>...</td>\n",
       "      <td>...</td>\n",
       "      <td>...</td>\n",
       "      <td>...</td>\n",
       "      <td>...</td>\n",
       "      <td>...</td>\n",
       "      <td>...</td>\n",
       "      <td>...</td>\n",
       "      <td>...</td>\n",
       "      <td>...</td>\n",
       "      <td>...</td>\n",
       "      <td>...</td>\n",
       "      <td>...</td>\n",
       "    </tr>\n",
       "    <tr>\n",
       "      <th>150</th>\n",
       "      <td>1</td>\n",
       "      <td>0</td>\n",
       "      <td>0</td>\n",
       "      <td>1</td>\n",
       "      <td>0</td>\n",
       "      <td>1</td>\n",
       "      <td>1</td>\n",
       "      <td>0</td>\n",
       "      <td>1</td>\n",
       "      <td>0</td>\n",
       "      <td>...</td>\n",
       "      <td>0</td>\n",
       "      <td>1</td>\n",
       "      <td>1</td>\n",
       "      <td>0</td>\n",
       "      <td>1</td>\n",
       "      <td>0</td>\n",
       "      <td>1</td>\n",
       "      <td>0</td>\n",
       "      <td>0</td>\n",
       "      <td>1</td>\n",
       "    </tr>\n",
       "    <tr>\n",
       "      <th>151</th>\n",
       "      <td>1</td>\n",
       "      <td>0</td>\n",
       "      <td>0</td>\n",
       "      <td>1</td>\n",
       "      <td>0</td>\n",
       "      <td>1</td>\n",
       "      <td>1</td>\n",
       "      <td>0</td>\n",
       "      <td>0</td>\n",
       "      <td>1</td>\n",
       "      <td>...</td>\n",
       "      <td>0</td>\n",
       "      <td>1</td>\n",
       "      <td>0</td>\n",
       "      <td>1</td>\n",
       "      <td>0</td>\n",
       "      <td>1</td>\n",
       "      <td>0</td>\n",
       "      <td>1</td>\n",
       "      <td>0</td>\n",
       "      <td>1</td>\n",
       "    </tr>\n",
       "    <tr>\n",
       "      <th>152</th>\n",
       "      <td>1</td>\n",
       "      <td>0</td>\n",
       "      <td>1</td>\n",
       "      <td>0</td>\n",
       "      <td>0</td>\n",
       "      <td>1</td>\n",
       "      <td>1</td>\n",
       "      <td>0</td>\n",
       "      <td>1</td>\n",
       "      <td>0</td>\n",
       "      <td>...</td>\n",
       "      <td>0</td>\n",
       "      <td>1</td>\n",
       "      <td>1</td>\n",
       "      <td>0</td>\n",
       "      <td>0</td>\n",
       "      <td>1</td>\n",
       "      <td>0</td>\n",
       "      <td>1</td>\n",
       "      <td>0</td>\n",
       "      <td>1</td>\n",
       "    </tr>\n",
       "    <tr>\n",
       "      <th>153</th>\n",
       "      <td>0</td>\n",
       "      <td>1</td>\n",
       "      <td>1</td>\n",
       "      <td>0</td>\n",
       "      <td>0</td>\n",
       "      <td>1</td>\n",
       "      <td>1</td>\n",
       "      <td>0</td>\n",
       "      <td>0</td>\n",
       "      <td>1</td>\n",
       "      <td>...</td>\n",
       "      <td>1</td>\n",
       "      <td>0</td>\n",
       "      <td>1</td>\n",
       "      <td>0</td>\n",
       "      <td>0</td>\n",
       "      <td>1</td>\n",
       "      <td>1</td>\n",
       "      <td>0</td>\n",
       "      <td>0</td>\n",
       "      <td>1</td>\n",
       "    </tr>\n",
       "    <tr>\n",
       "      <th>154</th>\n",
       "      <td>1</td>\n",
       "      <td>0</td>\n",
       "      <td>0</td>\n",
       "      <td>1</td>\n",
       "      <td>0</td>\n",
       "      <td>1</td>\n",
       "      <td>1</td>\n",
       "      <td>0</td>\n",
       "      <td>0</td>\n",
       "      <td>1</td>\n",
       "      <td>...</td>\n",
       "      <td>1</td>\n",
       "      <td>0</td>\n",
       "      <td>1</td>\n",
       "      <td>0</td>\n",
       "      <td>1</td>\n",
       "      <td>0</td>\n",
       "      <td>0</td>\n",
       "      <td>1</td>\n",
       "      <td>0</td>\n",
       "      <td>1</td>\n",
       "    </tr>\n",
       "  </tbody>\n",
       "</table>\n",
       "<p>152 rows × 26 columns</p>\n",
       "</div>"
      ],
      "text/plain": [
       "     Gender_1.0  Gender_2.0  Steroid_1.0  Steroid_2.0  Antivirals_1.0  \\\n",
       "0             0           1            1            0               0   \n",
       "1             1           0            1            0               0   \n",
       "2             1           0            0            1               0   \n",
       "3             1           0            0            1               1   \n",
       "4             1           0            0            1               0   \n",
       "..          ...         ...          ...          ...             ...   \n",
       "150           1           0            0            1               0   \n",
       "151           1           0            0            1               0   \n",
       "152           1           0            1            0               0   \n",
       "153           0           1            1            0               0   \n",
       "154           1           0            0            1               0   \n",
       "\n",
       "     Antivirals_2.0  Fatigue_1.0  Fatigue_2.0  Malaise_1.0  Malaise_2.0  ...  \\\n",
       "0                 1            0            1            0            1  ...   \n",
       "1                 1            1            0            0            1  ...   \n",
       "2                 1            1            0            0            1  ...   \n",
       "3                 0            0            1            0            1  ...   \n",
       "4                 1            0            1            0            1  ...   \n",
       "..              ...          ...          ...          ...          ...  ...   \n",
       "150               1            1            0            1            0  ...   \n",
       "151               1            1            0            0            1  ...   \n",
       "152               1            1            0            1            0  ...   \n",
       "153               1            1            0            0            1  ...   \n",
       "154               1            1            0            0            1  ...   \n",
       "\n",
       "     SpleenPalpable_1.0  SpleenPalpable_2.0  Spiders_1.0  Spiders_2.0  \\\n",
       "0                     0                   1            0            1   \n",
       "1                     0                   1            0            1   \n",
       "2                     0                   1            0            1   \n",
       "3                     0                   1            0            1   \n",
       "4                     0                   1            0            1   \n",
       "..                  ...                 ...          ...          ...   \n",
       "150                   0                   1            1            0   \n",
       "151                   0                   1            0            1   \n",
       "152                   0                   1            1            0   \n",
       "153                   1                   0            1            0   \n",
       "154                   1                   0            1            0   \n",
       "\n",
       "     Ascites_1.0  Ascites_2.0  Varices_1.0  Varices_2.0  Histology_1.0  \\\n",
       "0              0            1            0            1              1   \n",
       "1              0            1            0            1              1   \n",
       "2              0            1            0            1              1   \n",
       "3              0            1            0            1              1   \n",
       "4              0            1            0            1              1   \n",
       "..           ...          ...          ...          ...            ...   \n",
       "150            1            0            1            0              0   \n",
       "151            0            1            0            1              0   \n",
       "152            0            1            0            1              0   \n",
       "153            0            1            1            0              0   \n",
       "154            1            0            0            1              0   \n",
       "\n",
       "     Histology_2.0  \n",
       "0                0  \n",
       "1                0  \n",
       "2                0  \n",
       "3                0  \n",
       "4                0  \n",
       "..             ...  \n",
       "150              1  \n",
       "151              1  \n",
       "152              1  \n",
       "153              1  \n",
       "154              1  \n",
       "\n",
       "[152 rows x 26 columns]"
      ]
     },
     "execution_count": 44,
     "metadata": {},
     "output_type": "execute_result"
    }
   ],
   "source": [
    "dataset_novos_dados"
   ]
  },
  {
   "cell_type": "code",
   "execution_count": 45,
   "metadata": {},
   "outputs": [
    {
     "name": "stdout",
     "output_type": "stream",
     "text": [
      "<class 'pandas.core.frame.DataFrame'>\n",
      "Int64Index: 152 entries, 0 to 154\n",
      "Data columns (total 26 columns):\n",
      " #   Column              Non-Null Count  Dtype\n",
      "---  ------              --------------  -----\n",
      " 0   Gender_1.0          152 non-null    uint8\n",
      " 1   Gender_2.0          152 non-null    uint8\n",
      " 2   Steroid_1.0         152 non-null    uint8\n",
      " 3   Steroid_2.0         152 non-null    uint8\n",
      " 4   Antivirals_1.0      152 non-null    uint8\n",
      " 5   Antivirals_2.0      152 non-null    uint8\n",
      " 6   Fatigue_1.0         152 non-null    uint8\n",
      " 7   Fatigue_2.0         152 non-null    uint8\n",
      " 8   Malaise_1.0         152 non-null    uint8\n",
      " 9   Malaise_2.0         152 non-null    uint8\n",
      " 10  Anorexia_1.0        152 non-null    uint8\n",
      " 11  Anorexia_2.0        152 non-null    uint8\n",
      " 12  LiverBig_1.0        152 non-null    uint8\n",
      " 13  LiverBig_2.0        152 non-null    uint8\n",
      " 14  LiverFirm_1.0       152 non-null    uint8\n",
      " 15  LiverFirm_2.0       152 non-null    uint8\n",
      " 16  SpleenPalpable_1.0  152 non-null    uint8\n",
      " 17  SpleenPalpable_2.0  152 non-null    uint8\n",
      " 18  Spiders_1.0         152 non-null    uint8\n",
      " 19  Spiders_2.0         152 non-null    uint8\n",
      " 20  Ascites_1.0         152 non-null    uint8\n",
      " 21  Ascites_2.0         152 non-null    uint8\n",
      " 22  Varices_1.0         152 non-null    uint8\n",
      " 23  Varices_2.0         152 non-null    uint8\n",
      " 24  Histology_1.0       152 non-null    uint8\n",
      " 25  Histology_2.0       152 non-null    uint8\n",
      "dtypes: uint8(26)\n",
      "memory usage: 10.0 KB\n"
     ]
    }
   ],
   "source": [
    "dataset_novos_dados.info()"
   ]
  },
  {
   "cell_type": "code",
   "execution_count": 46,
   "metadata": {},
   "outputs": [
    {
     "data": {
      "text/plain": [
       "Index(['Gender_1.0', 'Gender_2.0', 'Steroid_1.0', 'Steroid_2.0',\n",
       "       'Antivirals_1.0', 'Antivirals_2.0', 'Fatigue_1.0', 'Fatigue_2.0',\n",
       "       'Malaise_1.0', 'Malaise_2.0', 'Anorexia_1.0', 'Anorexia_2.0',\n",
       "       'LiverBig_1.0', 'LiverBig_2.0', 'LiverFirm_1.0', 'LiverFirm_2.0',\n",
       "       'SpleenPalpable_1.0', 'SpleenPalpable_2.0', 'Spiders_1.0',\n",
       "       'Spiders_2.0', 'Ascites_1.0', 'Ascites_2.0', 'Varices_1.0',\n",
       "       'Varices_2.0', 'Histology_1.0', 'Histology_2.0'],\n",
       "      dtype='object')"
      ]
     },
     "execution_count": 46,
     "metadata": {},
     "output_type": "execute_result"
    }
   ],
   "source": [
    "dfcatname_novo = dataset_novos_dados.columns\n",
    "dfcatname_novo"
   ]
  },
  {
   "cell_type": "code",
   "execution_count": 47,
   "metadata": {},
   "outputs": [],
   "source": [
    "df_hepatite_novo = df_hepatite.merge(dataset_novos_dados, left_index=True, right_index=True)"
   ]
  },
  {
   "cell_type": "code",
   "execution_count": 48,
   "metadata": {},
   "outputs": [
    {
     "data": {
      "text/html": [
       "<div>\n",
       "<style scoped>\n",
       "    .dataframe tbody tr th:only-of-type {\n",
       "        vertical-align: middle;\n",
       "    }\n",
       "\n",
       "    .dataframe tbody tr th {\n",
       "        vertical-align: top;\n",
       "    }\n",
       "\n",
       "    .dataframe thead th {\n",
       "        text-align: right;\n",
       "    }\n",
       "</style>\n",
       "<table border=\"1\" class=\"dataframe\">\n",
       "  <thead>\n",
       "    <tr style=\"text-align: right;\">\n",
       "      <th></th>\n",
       "      <th>Class</th>\n",
       "      <th>Age</th>\n",
       "      <th>Gender</th>\n",
       "      <th>Steroid</th>\n",
       "      <th>Antivirals</th>\n",
       "      <th>Fatigue</th>\n",
       "      <th>Malaise</th>\n",
       "      <th>Anorexia</th>\n",
       "      <th>LiverBig</th>\n",
       "      <th>LiverFirm</th>\n",
       "      <th>...</th>\n",
       "      <th>SpleenPalpable_1.0</th>\n",
       "      <th>SpleenPalpable_2.0</th>\n",
       "      <th>Spiders_1.0</th>\n",
       "      <th>Spiders_2.0</th>\n",
       "      <th>Ascites_1.0</th>\n",
       "      <th>Ascites_2.0</th>\n",
       "      <th>Varices_1.0</th>\n",
       "      <th>Varices_2.0</th>\n",
       "      <th>Histology_1.0</th>\n",
       "      <th>Histology_2.0</th>\n",
       "    </tr>\n",
       "  </thead>\n",
       "  <tbody>\n",
       "    <tr>\n",
       "      <th>0</th>\n",
       "      <td>2</td>\n",
       "      <td>30</td>\n",
       "      <td>2</td>\n",
       "      <td>1</td>\n",
       "      <td>2</td>\n",
       "      <td>2</td>\n",
       "      <td>2</td>\n",
       "      <td>2</td>\n",
       "      <td>1</td>\n",
       "      <td>2</td>\n",
       "      <td>...</td>\n",
       "      <td>0</td>\n",
       "      <td>1</td>\n",
       "      <td>0</td>\n",
       "      <td>1</td>\n",
       "      <td>0</td>\n",
       "      <td>1</td>\n",
       "      <td>0</td>\n",
       "      <td>1</td>\n",
       "      <td>1</td>\n",
       "      <td>0</td>\n",
       "    </tr>\n",
       "    <tr>\n",
       "      <th>1</th>\n",
       "      <td>2</td>\n",
       "      <td>50</td>\n",
       "      <td>1</td>\n",
       "      <td>1</td>\n",
       "      <td>2</td>\n",
       "      <td>1</td>\n",
       "      <td>2</td>\n",
       "      <td>2</td>\n",
       "      <td>1</td>\n",
       "      <td>2</td>\n",
       "      <td>...</td>\n",
       "      <td>0</td>\n",
       "      <td>1</td>\n",
       "      <td>0</td>\n",
       "      <td>1</td>\n",
       "      <td>0</td>\n",
       "      <td>1</td>\n",
       "      <td>0</td>\n",
       "      <td>1</td>\n",
       "      <td>1</td>\n",
       "      <td>0</td>\n",
       "    </tr>\n",
       "    <tr>\n",
       "      <th>2</th>\n",
       "      <td>2</td>\n",
       "      <td>78</td>\n",
       "      <td>1</td>\n",
       "      <td>2</td>\n",
       "      <td>2</td>\n",
       "      <td>1</td>\n",
       "      <td>2</td>\n",
       "      <td>2</td>\n",
       "      <td>2</td>\n",
       "      <td>2</td>\n",
       "      <td>...</td>\n",
       "      <td>0</td>\n",
       "      <td>1</td>\n",
       "      <td>0</td>\n",
       "      <td>1</td>\n",
       "      <td>0</td>\n",
       "      <td>1</td>\n",
       "      <td>0</td>\n",
       "      <td>1</td>\n",
       "      <td>1</td>\n",
       "      <td>0</td>\n",
       "    </tr>\n",
       "    <tr>\n",
       "      <th>3</th>\n",
       "      <td>2</td>\n",
       "      <td>31</td>\n",
       "      <td>1</td>\n",
       "      <td>2</td>\n",
       "      <td>1</td>\n",
       "      <td>2</td>\n",
       "      <td>2</td>\n",
       "      <td>2</td>\n",
       "      <td>2</td>\n",
       "      <td>2</td>\n",
       "      <td>...</td>\n",
       "      <td>0</td>\n",
       "      <td>1</td>\n",
       "      <td>0</td>\n",
       "      <td>1</td>\n",
       "      <td>0</td>\n",
       "      <td>1</td>\n",
       "      <td>0</td>\n",
       "      <td>1</td>\n",
       "      <td>1</td>\n",
       "      <td>0</td>\n",
       "    </tr>\n",
       "    <tr>\n",
       "      <th>4</th>\n",
       "      <td>2</td>\n",
       "      <td>34</td>\n",
       "      <td>1</td>\n",
       "      <td>2</td>\n",
       "      <td>2</td>\n",
       "      <td>2</td>\n",
       "      <td>2</td>\n",
       "      <td>2</td>\n",
       "      <td>2</td>\n",
       "      <td>2</td>\n",
       "      <td>...</td>\n",
       "      <td>0</td>\n",
       "      <td>1</td>\n",
       "      <td>0</td>\n",
       "      <td>1</td>\n",
       "      <td>0</td>\n",
       "      <td>1</td>\n",
       "      <td>0</td>\n",
       "      <td>1</td>\n",
       "      <td>1</td>\n",
       "      <td>0</td>\n",
       "    </tr>\n",
       "    <tr>\n",
       "      <th>5</th>\n",
       "      <td>2</td>\n",
       "      <td>34</td>\n",
       "      <td>1</td>\n",
       "      <td>2</td>\n",
       "      <td>2</td>\n",
       "      <td>2</td>\n",
       "      <td>2</td>\n",
       "      <td>2</td>\n",
       "      <td>2</td>\n",
       "      <td>2</td>\n",
       "      <td>...</td>\n",
       "      <td>0</td>\n",
       "      <td>1</td>\n",
       "      <td>0</td>\n",
       "      <td>1</td>\n",
       "      <td>0</td>\n",
       "      <td>1</td>\n",
       "      <td>0</td>\n",
       "      <td>1</td>\n",
       "      <td>1</td>\n",
       "      <td>0</td>\n",
       "    </tr>\n",
       "    <tr>\n",
       "      <th>7</th>\n",
       "      <td>2</td>\n",
       "      <td>23</td>\n",
       "      <td>1</td>\n",
       "      <td>2</td>\n",
       "      <td>2</td>\n",
       "      <td>2</td>\n",
       "      <td>2</td>\n",
       "      <td>2</td>\n",
       "      <td>2</td>\n",
       "      <td>2</td>\n",
       "      <td>...</td>\n",
       "      <td>0</td>\n",
       "      <td>1</td>\n",
       "      <td>0</td>\n",
       "      <td>1</td>\n",
       "      <td>0</td>\n",
       "      <td>1</td>\n",
       "      <td>0</td>\n",
       "      <td>1</td>\n",
       "      <td>1</td>\n",
       "      <td>0</td>\n",
       "    </tr>\n",
       "    <tr>\n",
       "      <th>8</th>\n",
       "      <td>2</td>\n",
       "      <td>39</td>\n",
       "      <td>1</td>\n",
       "      <td>2</td>\n",
       "      <td>2</td>\n",
       "      <td>1</td>\n",
       "      <td>2</td>\n",
       "      <td>2</td>\n",
       "      <td>2</td>\n",
       "      <td>1</td>\n",
       "      <td>...</td>\n",
       "      <td>0</td>\n",
       "      <td>1</td>\n",
       "      <td>0</td>\n",
       "      <td>1</td>\n",
       "      <td>0</td>\n",
       "      <td>1</td>\n",
       "      <td>0</td>\n",
       "      <td>1</td>\n",
       "      <td>1</td>\n",
       "      <td>0</td>\n",
       "    </tr>\n",
       "    <tr>\n",
       "      <th>9</th>\n",
       "      <td>2</td>\n",
       "      <td>30</td>\n",
       "      <td>1</td>\n",
       "      <td>2</td>\n",
       "      <td>2</td>\n",
       "      <td>2</td>\n",
       "      <td>2</td>\n",
       "      <td>2</td>\n",
       "      <td>2</td>\n",
       "      <td>2</td>\n",
       "      <td>...</td>\n",
       "      <td>0</td>\n",
       "      <td>1</td>\n",
       "      <td>0</td>\n",
       "      <td>1</td>\n",
       "      <td>0</td>\n",
       "      <td>1</td>\n",
       "      <td>0</td>\n",
       "      <td>1</td>\n",
       "      <td>1</td>\n",
       "      <td>0</td>\n",
       "    </tr>\n",
       "    <tr>\n",
       "      <th>10</th>\n",
       "      <td>2</td>\n",
       "      <td>39</td>\n",
       "      <td>1</td>\n",
       "      <td>1</td>\n",
       "      <td>1</td>\n",
       "      <td>2</td>\n",
       "      <td>2</td>\n",
       "      <td>2</td>\n",
       "      <td>1</td>\n",
       "      <td>1</td>\n",
       "      <td>...</td>\n",
       "      <td>0</td>\n",
       "      <td>1</td>\n",
       "      <td>0</td>\n",
       "      <td>1</td>\n",
       "      <td>0</td>\n",
       "      <td>1</td>\n",
       "      <td>0</td>\n",
       "      <td>1</td>\n",
       "      <td>1</td>\n",
       "      <td>0</td>\n",
       "    </tr>\n",
       "  </tbody>\n",
       "</table>\n",
       "<p>10 rows × 46 columns</p>\n",
       "</div>"
      ],
      "text/plain": [
       "    Class  Age Gender Steroid Antivirals Fatigue Malaise Anorexia LiverBig  \\\n",
       "0       2   30      2       1          2       2       2        2        1   \n",
       "1       2   50      1       1          2       1       2        2        1   \n",
       "2       2   78      1       2          2       1       2        2        2   \n",
       "3       2   31      1       2          1       2       2        2        2   \n",
       "4       2   34      1       2          2       2       2        2        2   \n",
       "5       2   34      1       2          2       2       2        2        2   \n",
       "7       2   23      1       2          2       2       2        2        2   \n",
       "8       2   39      1       2          2       1       2        2        2   \n",
       "9       2   30      1       2          2       2       2        2        2   \n",
       "10      2   39      1       1          1       2       2        2        1   \n",
       "\n",
       "   LiverFirm  ... SpleenPalpable_1.0 SpleenPalpable_2.0 Spiders_1.0  \\\n",
       "0          2  ...                  0                  1           0   \n",
       "1          2  ...                  0                  1           0   \n",
       "2          2  ...                  0                  1           0   \n",
       "3          2  ...                  0                  1           0   \n",
       "4          2  ...                  0                  1           0   \n",
       "5          2  ...                  0                  1           0   \n",
       "7          2  ...                  0                  1           0   \n",
       "8          1  ...                  0                  1           0   \n",
       "9          2  ...                  0                  1           0   \n",
       "10         1  ...                  0                  1           0   \n",
       "\n",
       "   Spiders_2.0  Ascites_1.0  Ascites_2.0  Varices_1.0  Varices_2.0  \\\n",
       "0            1            0            1            0            1   \n",
       "1            1            0            1            0            1   \n",
       "2            1            0            1            0            1   \n",
       "3            1            0            1            0            1   \n",
       "4            1            0            1            0            1   \n",
       "5            1            0            1            0            1   \n",
       "7            1            0            1            0            1   \n",
       "8            1            0            1            0            1   \n",
       "9            1            0            1            0            1   \n",
       "10           1            0            1            0            1   \n",
       "\n",
       "    Histology_1.0 Histology_2.0  \n",
       "0               1             0  \n",
       "1               1             0  \n",
       "2               1             0  \n",
       "3               1             0  \n",
       "4               1             0  \n",
       "5               1             0  \n",
       "7               1             0  \n",
       "8               1             0  \n",
       "9               1             0  \n",
       "10              1             0  \n",
       "\n",
       "[10 rows x 46 columns]"
      ]
     },
     "execution_count": 48,
     "metadata": {},
     "output_type": "execute_result"
    }
   ],
   "source": [
    "df_hepatite_novo.head(10)"
   ]
  },
  {
   "cell_type": "code",
   "execution_count": 49,
   "metadata": {},
   "outputs": [],
   "source": [
    "# Eliminando as colunas categoricas originas\n",
    "for col in dfcatname:\n",
    "    del df_hepatite_novo[col]"
   ]
  },
  {
   "cell_type": "code",
   "execution_count": 50,
   "metadata": {},
   "outputs": [],
   "source": [
    "df_hepatite_novo[\"Class\"].replace((1,2),(0,1),inplace=True)"
   ]
  },
  {
   "cell_type": "code",
   "execution_count": 51,
   "metadata": {},
   "outputs": [
    {
     "name": "stdout",
     "output_type": "stream",
     "text": [
      "<class 'pandas.core.frame.DataFrame'>\n",
      "Int64Index: 152 entries, 0 to 154\n",
      "Data columns (total 33 columns):\n",
      " #   Column              Non-Null Count  Dtype  \n",
      "---  ------              --------------  -----  \n",
      " 0   Class               152 non-null    int64  \n",
      " 1   Age                 152 non-null    int64  \n",
      " 2   Bilirubin           152 non-null    float64\n",
      " 3   AlkPhosphate        152 non-null    float64\n",
      " 4   SGOT                152 non-null    float64\n",
      " 5   Albumin             152 non-null    float64\n",
      " 6   Protime             152 non-null    float64\n",
      " 7   Gender_1.0          152 non-null    uint8  \n",
      " 8   Gender_2.0          152 non-null    uint8  \n",
      " 9   Steroid_1.0         152 non-null    uint8  \n",
      " 10  Steroid_2.0         152 non-null    uint8  \n",
      " 11  Antivirals_1.0      152 non-null    uint8  \n",
      " 12  Antivirals_2.0      152 non-null    uint8  \n",
      " 13  Fatigue_1.0         152 non-null    uint8  \n",
      " 14  Fatigue_2.0         152 non-null    uint8  \n",
      " 15  Malaise_1.0         152 non-null    uint8  \n",
      " 16  Malaise_2.0         152 non-null    uint8  \n",
      " 17  Anorexia_1.0        152 non-null    uint8  \n",
      " 18  Anorexia_2.0        152 non-null    uint8  \n",
      " 19  LiverBig_1.0        152 non-null    uint8  \n",
      " 20  LiverBig_2.0        152 non-null    uint8  \n",
      " 21  LiverFirm_1.0       152 non-null    uint8  \n",
      " 22  LiverFirm_2.0       152 non-null    uint8  \n",
      " 23  SpleenPalpable_1.0  152 non-null    uint8  \n",
      " 24  SpleenPalpable_2.0  152 non-null    uint8  \n",
      " 25  Spiders_1.0         152 non-null    uint8  \n",
      " 26  Spiders_2.0         152 non-null    uint8  \n",
      " 27  Ascites_1.0         152 non-null    uint8  \n",
      " 28  Ascites_2.0         152 non-null    uint8  \n",
      " 29  Varices_1.0         152 non-null    uint8  \n",
      " 30  Varices_2.0         152 non-null    uint8  \n",
      " 31  Histology_1.0       152 non-null    uint8  \n",
      " 32  Histology_2.0       152 non-null    uint8  \n",
      "dtypes: float64(5), int64(2), uint8(26)\n",
      "memory usage: 18.4 KB\n"
     ]
    }
   ],
   "source": [
    "df_hepatite_novo.info()"
   ]
  },
  {
   "cell_type": "markdown",
   "metadata": {},
   "source": [
    "Analisando as variáveis Bilirubin, AlkPhosphate,SGOT,Albumin e Protime"
   ]
  },
  {
   "cell_type": "markdown",
   "metadata": {},
   "source": [
    "## Explorando os principais indicadores"
   ]
  },
  {
   "cell_type": "markdown",
   "metadata": {},
   "source": [
    "O exame de bilirrubina serve para avaliar o funcionamento do fígado e da vesícula biliar, bem como possíveis lesões hepáticas. A bilirrubina é uma substância resultante do metabolismo da hemoglobina (substância no sangue que carrega o oxigênio dá a cor vermelha aos glóbulos vermelhos).\n",
    "\n",
    "Dentre as doenças que podem aumentar a concentração de bilirrubina no sangue estão as hepatites, cirrose hepática, Síndrome de Gilbert (condição benigna e genética que provoca uma elevação nos níveis de bilirrubina), câncer de fígado, anemia falciforme, cálculos ou tumores biliares, entre outras.\n",
    "\n",
    "Nos adultos, os valores de referência normais de bilirrubina são:\n",
    "\n",
    "Bilirrubina total: 0,20 a 1,00 mg/dL;\n",
    "\n",
    "Bilirrubina direta: 0,00 a 0,20 mg/dL;\n",
    "\n",
    "Bilirrubina indireta: 0,20 a 0,80 mg/dL.\n",
    "\n",
    "Em recém-nascidos prematuros, os valores de referência normais da bilirrubina total são:\n",
    "\n",
    "1 dia: 1,00 a 8,00 mg/dL;\n",
    "\n",
    "2 dias: 6,00 a 12,00 mg/dL;\n",
    "\n",
    "3 - 5 dias: 10,00 a 14,00 mg/dL.\n",
    "\n",
    "Para os recém-nascidos a termo, os valores de referência normais da bilirrubina total são:\n",
    "\n",
    "1 dia: 2,00 a 6,00 mg/dL;\n",
    "\n",
    "2 dias: 6,00 a 10,00 mg/dL;\n",
    "\n",
    "3 - 5 dias: 4,00 a 8,00 mg/dL.\n",
    "\n",
    "Fonte: https://medicoresponde.com.br/para-que-serve-o-exame-de-bilirrubina-no-sangue/ "
   ]
  },
  {
   "cell_type": "code",
   "execution_count": 105,
   "metadata": {},
   "outputs": [
    {
     "data": {
      "image/png": "[encoded data removed]",
      "text/plain": [
       "<Figure size 432x288 with 1 Axes>"
      ]
     },
     "metadata": {},
     "output_type": "display_data"
    }
   ],
   "source": [
    "plt.scatter(df_hepatite_novo['Bilirubin'], df_hepatite_novo['Class'])\n",
    "plt.title('Bilirrubina vs Class')\n",
    "plt.xlabel('Bilirubin')\n",
    "plt.ylabel('Class')\n",
    "plt.show()"
   ]
  },
  {
   "cell_type": "code",
   "execution_count": 52,
   "metadata": {},
   "outputs": [
    {
     "data": {
      "text/plain": [
       "array([[<matplotlib.axes._subplots.AxesSubplot object at 0x000002DEA1043780>]],\n",
       "      dtype=object)"
      ]
     },
     "execution_count": 52,
     "metadata": {},
     "output_type": "execute_result"
    },
    {
     "data": {
      "image/png": "[encoded data removed]",
      "text/plain": [
       "<Figure size 648x432 with 1 Axes>"
      ]
     },
     "metadata": {},
     "output_type": "display_data"
    }
   ],
   "source": [
    "df_hepatite_novo.hist(column = 'Bilirubin', figsize=(9,6), bins=20)"
   ]
  },
  {
   "cell_type": "code",
   "execution_count": 53,
   "metadata": {},
   "outputs": [
    {
     "data": {
      "text/plain": [
       "count    152.000000\n",
       "mean       1.424123\n",
       "std        1.202617\n",
       "min        0.300000\n",
       "25%        0.775000\n",
       "50%        1.000000\n",
       "75%        1.500000\n",
       "max        8.000000\n",
       "Name: Bilirubin, dtype: float64"
      ]
     },
     "execution_count": 53,
     "metadata": {},
     "output_type": "execute_result"
    }
   ],
   "source": [
    "df_hepatite_novo['Bilirubin'].describe()"
   ]
  },
  {
   "cell_type": "code",
   "execution_count": 54,
   "metadata": {},
   "outputs": [
    {
     "data": {
      "text/plain": [
       "count    152.000000\n",
       "mean      41.052632\n",
       "std       12.547546\n",
       "min        7.000000\n",
       "25%       32.000000\n",
       "50%       39.000000\n",
       "75%       50.000000\n",
       "max       78.000000\n",
       "Name: Age, dtype: float64"
      ]
     },
     "execution_count": 54,
     "metadata": {},
     "output_type": "execute_result"
    }
   ],
   "source": [
    "df_hepatite_novo['Age'].describe()"
   ]
  },
  {
   "cell_type": "code",
   "execution_count": 110,
   "metadata": {},
   "outputs": [
    {
     "data": {
      "text/plain": [
       "<matplotlib.axes._subplots.AxesSubplot at 0x2deb87919b0>"
      ]
     },
     "execution_count": 110,
     "metadata": {},
     "output_type": "execute_result"
    },
    {
     "data": {
      "image/png": "[encoded data removed]",
      "text/plain": [
       "<Figure size 648x432 with 1 Axes>"
      ]
     },
     "metadata": {},
     "output_type": "display_data"
    }
   ],
   "source": [
    "# Verificando outliers para recursos numéricos em nosso conjunto de dados.\n",
    "# Variável media_nivel_glicose\n",
    "df_hepatite_novo['Bilirubin'].plot(kind=\"box\", figsize=(9,6))"
   ]
  },
  {
   "cell_type": "markdown",
   "metadata": {},
   "source": [
    "Considerando que são dados de pacientes com hepatite e que esta doença pode aumentar a concentração de bilirrubina no sangue, os valores extremos podem estar corretos, por isso não irei descartálos."
   ]
  },
  {
   "cell_type": "code",
   "execution_count": null,
   "metadata": {},
   "outputs": [],
   "source": []
  },
  {
   "cell_type": "markdown",
   "metadata": {},
   "source": [
    "A fosfatase alcalina é uma enzima presente nas membranas de revestimento dos canalículos biliares (canalicular).\n",
    "\n",
    "Sua dosagem é geralmente utilizada para o diagnóstico de doenças hepáticas, pois o aumento de seus níveis pode indicar lesão hepática canalicular (colestase, hepatite, etc).\n",
    "\n",
    "Os valores de referência são os seguintes:\n",
    "\n",
    "(observação: lembre-se que os valores de referência podem variar dependendo do método e dos reagentes usados. Logo, esses valores devem estar citados nos laudos de resultados dos exames laboratoriais de forma clara).\n",
    "\n",
    "    Faixa etária\tMasculino (U/L)\tFeminino (U/L)    Ambos os sexos\n",
    "    Recém-nascido          --\t          --              150 a 600\n",
    "    6 meses a 9 anos\t   --\t          --              250 a 900\n",
    "    10 a 11 anos\t    250 a 730      250 a 950              --\n",
    "    12 a 13 anos\t    275 a 875      200 a 730              --\n",
    "    14 a 15 anos        170 a 970      170 a 460              --\n",
    "    16 a 18 anos        25  a 720      75  a 270              --\n",
    "    Acima de 18 anos\t   --\t          --              50  a 250\n",
    "\n",
    "Fonte: https://medicoresponde.com.br/busca/?s=fosfatase+alcalina"
   ]
  },
  {
   "cell_type": "code",
   "execution_count": 106,
   "metadata": {},
   "outputs": [
    {
     "data": {
      "image/png": "[encoded data removed]",
      "text/plain": [
       "<Figure size 432x288 with 1 Axes>"
      ]
     },
     "metadata": {},
     "output_type": "display_data"
    }
   ],
   "source": [
    "plt.scatter(df_hepatite_novo['AlkPhosphate'], df_hepatite_novo['Class'])\n",
    "plt.title('Fosfatase alcalina vs Class')\n",
    "plt.xlabel('AlkPhosphate')\n",
    "plt.ylabel('Class')\n",
    "plt.show()"
   ]
  },
  {
   "cell_type": "code",
   "execution_count": 56,
   "metadata": {},
   "outputs": [
    {
     "data": {
      "text/plain": [
       "array([[<matplotlib.axes._subplots.AxesSubplot object at 0x000002DEB01E2F60>]],\n",
       "      dtype=object)"
      ]
     },
     "execution_count": 56,
     "metadata": {},
     "output_type": "execute_result"
    },
    {
     "data": {
      "image/png": "[encoded data removed]",
      "text/plain": [
       "<Figure size 648x432 with 1 Axes>"
      ]
     },
     "metadata": {},
     "output_type": "display_data"
    }
   ],
   "source": [
    "df_hepatite_novo.hist(column = 'AlkPhosphate', figsize=(9,6), bins=20)"
   ]
  },
  {
   "cell_type": "code",
   "execution_count": 57,
   "metadata": {},
   "outputs": [
    {
     "data": {
      "text/plain": [
       "count    152.000000\n",
       "mean     103.598684\n",
       "std       49.750804\n",
       "min       26.000000\n",
       "25%       72.000000\n",
       "50%       85.000000\n",
       "75%      127.750000\n",
       "max      295.000000\n",
       "Name: AlkPhosphate, dtype: float64"
      ]
     },
     "execution_count": 57,
     "metadata": {},
     "output_type": "execute_result"
    }
   ],
   "source": [
    "df_hepatite_novo['AlkPhosphate'].describe()"
   ]
  },
  {
   "cell_type": "code",
   "execution_count": 118,
   "metadata": {},
   "outputs": [
    {
     "data": {
      "text/plain": [
       "<matplotlib.axes._subplots.AxesSubplot at 0x2deb877e908>"
      ]
     },
     "execution_count": 118,
     "metadata": {},
     "output_type": "execute_result"
    },
    {
     "data": {
      "image/png": "[encoded data removed]",
      "text/plain": [
       "<Figure size 648x432 with 1 Axes>"
      ]
     },
     "metadata": {},
     "output_type": "display_data"
    }
   ],
   "source": [
    "# Verificando outliers para recursos numéricos em nosso conjunto de dados.\n",
    "# Variável media_nivel_glicose\n",
    "df_hepatite_novo['AlkPhosphate'].plot(kind=\"box\", figsize=(9,6))"
   ]
  },
  {
   "cell_type": "markdown",
   "metadata": {},
   "source": [
    "Considerando os valores de referencia podemos perceber que não existem discrepâncias nos dados referentes a fosfatase alcalina."
   ]
  },
  {
   "cell_type": "code",
   "execution_count": null,
   "metadata": {},
   "outputs": [],
   "source": []
  },
  {
   "cell_type": "markdown",
   "metadata": {},
   "source": [
    "Transaminase glutâmica oxalacética sérica (SGOT), também conhecido como TGO ou AST, são enzimas encontradas no interior de várias células do corpo.\n",
    "\n",
    "As enzimas TGO e TGP são indicadores de lesão no fígado. Por isso, o exame de TGO e TGP serve principalmente para avaliar o funcionamento do fígado. Quando os níveis de TGO e TGP estão alterados, pode ser um sinal de lesão nas células hepáticas.\n",
    "\n",
    "Os valores normais variam de laboratório para laboratório, ficando, porém, o limite superior sempre ao redor de 40 e 50 U/L.\n",
    "\n",
    "TGO e TGP acima de 160 U/L, indicam doença hepática, com grande probabilidade. Já aumentos acima de 1000 U/L são geralmente causadas por hepatites virais, isquêmica ou por drogas.\n",
    "\n",
    "Fontes: https://medicoresponde.com.br/o-que-pode-significar-nivel-alto-ou-baixo-de-tgo-e-tgp/"
   ]
  },
  {
   "cell_type": "code",
   "execution_count": 107,
   "metadata": {},
   "outputs": [
    {
     "data": {
      "image/png": "[encoded data removed]",
      "text/plain": [
       "<Figure size 432x288 with 1 Axes>"
      ]
     },
     "metadata": {},
     "output_type": "display_data"
    }
   ],
   "source": [
    "plt.scatter(df_hepatite_novo['SGOT'], df_hepatite_novo['Class'])\n",
    "plt.title('Transaminase glutâmica oxalacética vs Class')\n",
    "plt.xlabel('SGOT')\n",
    "plt.ylabel('Class')\n",
    "plt.show()"
   ]
  },
  {
   "cell_type": "code",
   "execution_count": 59,
   "metadata": {},
   "outputs": [
    {
     "data": {
      "text/plain": [
       "array([[<matplotlib.axes._subplots.AxesSubplot object at 0x000002DEA7E5BCC0>]],\n",
       "      dtype=object)"
      ]
     },
     "execution_count": 59,
     "metadata": {},
     "output_type": "execute_result"
    },
    {
     "data": {
      "image/png": "[encoded data removed]",
      "text/plain": [
       "<Figure size 648x432 with 1 Axes>"
      ]
     },
     "metadata": {},
     "output_type": "display_data"
    }
   ],
   "source": [
    "df_hepatite_novo.hist(column = 'SGOT', figsize=(9,6), bins=20)"
   ]
  },
  {
   "cell_type": "code",
   "execution_count": 60,
   "metadata": {},
   "outputs": [
    {
     "data": {
      "text/plain": [
       "count    152.000000\n",
       "mean      85.462719\n",
       "std       89.511634\n",
       "min       14.000000\n",
       "25%       31.000000\n",
       "50%       58.000000\n",
       "75%      100.250000\n",
       "max      648.000000\n",
       "Name: SGOT, dtype: float64"
      ]
     },
     "execution_count": 60,
     "metadata": {},
     "output_type": "execute_result"
    }
   ],
   "source": [
    "df_hepatite_novo['SGOT'].describe()"
   ]
  },
  {
   "cell_type": "code",
   "execution_count": 119,
   "metadata": {},
   "outputs": [
    {
     "data": {
      "text/plain": [
       "<matplotlib.axes._subplots.AxesSubplot at 0x2deb88507f0>"
      ]
     },
     "execution_count": 119,
     "metadata": {},
     "output_type": "execute_result"
    },
    {
     "data": {
      "image/png": "[encoded data removed]",
      "text/plain": [
       "<Figure size 648x432 with 1 Axes>"
      ]
     },
     "metadata": {},
     "output_type": "display_data"
    }
   ],
   "source": [
    "# Verificando outliers para recursos numéricos em nosso conjunto de dados.\n",
    "\n",
    "df_hepatite_novo['SGOT'].plot(kind=\"box\", figsize=(9,6))"
   ]
  },
  {
   "cell_type": "markdown",
   "metadata": {},
   "source": [
    "Existem valores discrepantes, porém considerando que são dados de pacientes com hepatite e que esta doença pode aumentar a concentração desta enzima no sangue, os valores extremos podem estar corretos, por isso não irei descartálos."
   ]
  },
  {
   "cell_type": "code",
   "execution_count": null,
   "metadata": {},
   "outputs": [],
   "source": []
  },
  {
   "cell_type": "markdown",
   "metadata": {},
   "source": [
    "A albumina é a proteína mais abundante do plasma sanguíneo. Serve como deposito móvel de aminoácidos. Os aumentos de albumina relaciona-se, quase sempre com desidratação, que produz um conseqüente aumento do conteúdo protéico do plasma.\n",
    "\n",
    "Valores Normais:\n",
    "\n",
    "    plasma: 3-5 g / 100ml\n",
    "    Urina: menor de 10 mg/l\n",
    "    LCR: 10-30 mg / dl.\n",
    "\n",
    "Valores aumentados: Proteinúria glomerular, quiluria, desidratação.\n",
    "\n",
    "Valores diminuídos: Queimaduras, síndrome nefrótica, doença de Cushing, má absorção, obstrução intestinal, patologia hepática difusa (cirrose, hepatite crônica ativa), febre reumática, má nutrição, ascite, analbuminemia, etc.\n",
    "\n",
    "Fonte: https://www.boasaude.com.br/exames-de-rotina/a/3/view/albumina-codigo-amb-4030122-2.html"
   ]
  },
  {
   "cell_type": "code",
   "execution_count": 108,
   "metadata": {},
   "outputs": [
    {
     "data": {
      "image/png": "[encoded data removed]",
      "text/plain": [
       "<Figure size 432x288 with 1 Axes>"
      ]
     },
     "metadata": {},
     "output_type": "display_data"
    }
   ],
   "source": [
    "plt.scatter(df_hepatite_novo['Albumin'], df_hepatite_novo['Class'])\n",
    "plt.title('Albumina vs Class')\n",
    "plt.xlabel('Albumin')\n",
    "plt.ylabel('Class')\n",
    "plt.show()"
   ]
  },
  {
   "cell_type": "code",
   "execution_count": 62,
   "metadata": {},
   "outputs": [
    {
     "data": {
      "text/plain": [
       "array([[<matplotlib.axes._subplots.AxesSubplot object at 0x000002DEA3D00EF0>]],\n",
       "      dtype=object)"
      ]
     },
     "execution_count": 62,
     "metadata": {},
     "output_type": "execute_result"
    },
    {
     "data": {
      "image/png": "[encoded data removed]",
      "text/plain": [
       "<Figure size 648x432 with 1 Axes>"
      ]
     },
     "metadata": {},
     "output_type": "display_data"
    }
   ],
   "source": [
    "df_hepatite_novo.hist(column = 'Albumin', figsize=(9,6), bins=20)"
   ]
  },
  {
   "cell_type": "code",
   "execution_count": 63,
   "metadata": {},
   "outputs": [
    {
     "data": {
      "text/plain": [
       "count    152.000000\n",
       "mean       3.795395\n",
       "std        0.654110\n",
       "min        2.100000\n",
       "25%        3.375000\n",
       "50%        4.000000\n",
       "75%        4.200000\n",
       "max        6.400000\n",
       "Name: Albumin, dtype: float64"
      ]
     },
     "execution_count": 63,
     "metadata": {},
     "output_type": "execute_result"
    }
   ],
   "source": [
    "df_hepatite_novo['Albumin'].describe()"
   ]
  },
  {
   "cell_type": "code",
   "execution_count": 120,
   "metadata": {},
   "outputs": [
    {
     "data": {
      "text/plain": [
       "<matplotlib.axes._subplots.AxesSubplot at 0x2deba42a748>"
      ]
     },
     "execution_count": 120,
     "metadata": {},
     "output_type": "execute_result"
    },
    {
     "data": {
      "image/png": "[encoded data removed]",
      "text/plain": [
       "<Figure size 648x432 with 1 Axes>"
      ]
     },
     "metadata": {},
     "output_type": "display_data"
    }
   ],
   "source": [
    "# Verificando outliers para recursos numéricos em nosso conjunto de dados.\n",
    "\n",
    "df_hepatite_novo['Albumin'].plot(kind=\"box\", figsize=(9,6))"
   ]
  },
  {
   "cell_type": "code",
   "execution_count": null,
   "metadata": {},
   "outputs": [],
   "source": []
  },
  {
   "cell_type": "markdown",
   "metadata": {},
   "source": [
    "Exame de tempo de protrombina é utilizado sempre que surgem sangramentos ou hematomas frequentes para tentar encontrar a causa do problemtempo de protrombina, o \n",
    "tempo de protrombina alto pode está associado a doenças hepáticas.\n",
    "\n",
    "O Tempo de Protrombina mede o tempo de ocorrência da coagulação, após a adição de tromboplastina tecidual e cálcio ao plasma. Seu valor de referência pode ser expresso em tempo (em torno de 14 segundos) ou em percentual (70-100%).\n",
    "\n",
    "Fonte: http://rmmg.org/artigo/detalhes/335"
   ]
  },
  {
   "cell_type": "code",
   "execution_count": 109,
   "metadata": {},
   "outputs": [
    {
     "data": {
      "image/png": "[encoded data removed]",
      "text/plain": [
       "<Figure size 432x288 with 1 Axes>"
      ]
     },
     "metadata": {},
     "output_type": "display_data"
    }
   ],
   "source": [
    "plt.scatter(df_hepatite_novo['Protime'], df_hepatite_novo['Class'])\n",
    "plt.title('Tempo de Protrombina vs Class')\n",
    "plt.xlabel('Protime')\n",
    "plt.ylabel('Class')\n",
    "plt.show()"
   ]
  },
  {
   "cell_type": "code",
   "execution_count": 65,
   "metadata": {},
   "outputs": [
    {
     "data": {
      "text/plain": [
       "array([[<matplotlib.axes._subplots.AxesSubplot object at 0x000002DEA6D96BA8>]],\n",
       "      dtype=object)"
      ]
     },
     "execution_count": 65,
     "metadata": {},
     "output_type": "execute_result"
    },
    {
     "data": {
      "image/png": "[encoded data removed]",
      "text/plain": [
       "<Figure size 648x432 with 1 Axes>"
      ]
     },
     "metadata": {},
     "output_type": "display_data"
    }
   ],
   "source": [
    "df_hepatite_novo.hist(column = 'Protime', figsize=(9,6), bins=20)"
   ]
  },
  {
   "cell_type": "code",
   "execution_count": 66,
   "metadata": {},
   "outputs": [
    {
     "data": {
      "text/plain": [
       "count    152.000000\n",
       "mean      60.901316\n",
       "std       24.297483\n",
       "min        0.000000\n",
       "25%       41.000000\n",
       "50%       58.000000\n",
       "75%       76.250000\n",
       "max      100.000000\n",
       "Name: Protime, dtype: float64"
      ]
     },
     "execution_count": 66,
     "metadata": {},
     "output_type": "execute_result"
    }
   ],
   "source": [
    "df_hepatite_novo['Protime'].describe()"
   ]
  },
  {
   "cell_type": "code",
   "execution_count": 121,
   "metadata": {},
   "outputs": [
    {
     "data": {
      "text/plain": [
       "<matplotlib.axes._subplots.AxesSubplot at 0x2dea9f57eb8>"
      ]
     },
     "execution_count": 121,
     "metadata": {},
     "output_type": "execute_result"
    },
    {
     "data": {
      "image/png": "[encoded data removed]",
      "text/plain": [
       "<Figure size 648x432 with 1 Axes>"
      ]
     },
     "metadata": {},
     "output_type": "display_data"
    }
   ],
   "source": [
    "# Verificando outliers para recursos numéricos em nosso conjunto de dados.\n",
    "\n",
    "df_hepatite_novo['Protime'].plot(kind=\"box\", figsize=(9,6))"
   ]
  },
  {
   "cell_type": "markdown",
   "metadata": {},
   "source": [
    "\n",
    "\n",
    "\n",
    "\n",
    "\n",
    "## Implmentando o modelo de classificação"
   ]
  },
  {
   "cell_type": "code",
   "execution_count": 68,
   "metadata": {},
   "outputs": [],
   "source": [
    "# Divisão dos dados em X e Y\n",
    "\n",
    "X = df_hepatite_novo.loc[:, df_hepatite_novo.columns != 'Class']\n",
    "Y = df_hepatite_novo['Class']"
   ]
  },
  {
   "cell_type": "code",
   "execution_count": 69,
   "metadata": {},
   "outputs": [],
   "source": [
    "# Padronização dos dados\n",
    "from sklearn.preprocessing import StandardScaler\n",
    "\n",
    "# copy of datasets\n",
    "X_stand = X.copy()\n",
    "\n",
    "# numerical features\n",
    "num_cols = ['Age', 'Bilirubin','AlkPhosphate','SGOT','Albumin','Protime']\n",
    "\n",
    "# apply standardization on numerical features\n",
    "for i in num_cols:\n",
    "    \n",
    "    # fit on training data column\n",
    "    scale = StandardScaler().fit(X_stand[[i]])\n",
    "    \n",
    "    # transform the training data column\n",
    "    X_stand[i] = scale.transform(X_stand[[i]])\n",
    "    "
   ]
  },
  {
   "cell_type": "code",
   "execution_count": 70,
   "metadata": {},
   "outputs": [
    {
     "name": "stdout",
     "output_type": "stream",
     "text": [
      "<class 'pandas.core.frame.DataFrame'>\n",
      "Int64Index: 152 entries, 0 to 154\n",
      "Data columns (total 32 columns):\n",
      " #   Column              Non-Null Count  Dtype  \n",
      "---  ------              --------------  -----  \n",
      " 0   Age                 152 non-null    float64\n",
      " 1   Bilirubin           152 non-null    float64\n",
      " 2   AlkPhosphate        152 non-null    float64\n",
      " 3   SGOT                152 non-null    float64\n",
      " 4   Albumin             152 non-null    float64\n",
      " 5   Protime             152 non-null    float64\n",
      " 6   Gender_1.0          152 non-null    uint8  \n",
      " 7   Gender_2.0          152 non-null    uint8  \n",
      " 8   Steroid_1.0         152 non-null    uint8  \n",
      " 9   Steroid_2.0         152 non-null    uint8  \n",
      " 10  Antivirals_1.0      152 non-null    uint8  \n",
      " 11  Antivirals_2.0      152 non-null    uint8  \n",
      " 12  Fatigue_1.0         152 non-null    uint8  \n",
      " 13  Fatigue_2.0         152 non-null    uint8  \n",
      " 14  Malaise_1.0         152 non-null    uint8  \n",
      " 15  Malaise_2.0         152 non-null    uint8  \n",
      " 16  Anorexia_1.0        152 non-null    uint8  \n",
      " 17  Anorexia_2.0        152 non-null    uint8  \n",
      " 18  LiverBig_1.0        152 non-null    uint8  \n",
      " 19  LiverBig_2.0        152 non-null    uint8  \n",
      " 20  LiverFirm_1.0       152 non-null    uint8  \n",
      " 21  LiverFirm_2.0       152 non-null    uint8  \n",
      " 22  SpleenPalpable_1.0  152 non-null    uint8  \n",
      " 23  SpleenPalpable_2.0  152 non-null    uint8  \n",
      " 24  Spiders_1.0         152 non-null    uint8  \n",
      " 25  Spiders_2.0         152 non-null    uint8  \n",
      " 26  Ascites_1.0         152 non-null    uint8  \n",
      " 27  Ascites_2.0         152 non-null    uint8  \n",
      " 28  Varices_1.0         152 non-null    uint8  \n",
      " 29  Varices_2.0         152 non-null    uint8  \n",
      " 30  Histology_1.0       152 non-null    uint8  \n",
      " 31  Histology_2.0       152 non-null    uint8  \n",
      "dtypes: float64(6), uint8(26)\n",
      "memory usage: 12.2 KB\n"
     ]
    }
   ],
   "source": [
    "X_stand.info()"
   ]
  },
  {
   "cell_type": "markdown",
   "metadata": {},
   "source": [
    "A Eliminação Recursiva de Recursos (RFE),  remove recursivamente os recursos, cria um modelo usando os atributos restantes e calcula a precisão do modelo. O RFE é capaz de calcular a combinação de atributos que melhor contribuem para a previsão na variável de destino (ou classe). No conjunto de dados em questão o melhor estimador foi o DecisionTreeRegressor."
   ]
  },
  {
   "cell_type": "code",
   "execution_count": 71,
   "metadata": {},
   "outputs": [
    {
     "name": "stdout",
     "output_type": "stream",
     "text": [
      "[ True  True  True  True  True  True False  True False False  True False\n",
      " False False  True False False False False False  True  True  True  True\n",
      "  True False False  True False False  True False]\n",
      "[ 1  1  1  1  1  1  2  1 11 15  1  4 13  7  1 17 16 14 12 10  1  1  1  1\n",
      "  1  8  3  1  6  9  1  5]\n"
     ]
    }
   ],
   "source": [
    "# Eliminação Recursiva de Recursos \n",
    "\n",
    "ModeloRFE = DecisionTreeRegressor()\n",
    "\n",
    "rfe = RFE(ModeloRFE)\n",
    "rfe = rfe.fit(X_stand, Y.ravel())\n",
    "rfe.transform(X_stand)\n",
    "print(rfe.support_)\n",
    "print(rfe.ranking_)"
   ]
  },
  {
   "cell_type": "code",
   "execution_count": 72,
   "metadata": {},
   "outputs": [
    {
     "name": "stdout",
     "output_type": "stream",
     "text": [
      "                coluna    rfe\n",
      "0                  Age   True\n",
      "20       LiverFirm_1.0   True\n",
      "22  SpleenPalpable_1.0   True\n",
      "23  SpleenPalpable_2.0   True\n",
      "1            Bilirubin   True\n",
      "24         Spiders_1.0   True\n",
      "14         Malaise_1.0   True\n",
      "27         Ascites_2.0   True\n",
      "10      Antivirals_1.0   True\n",
      "7           Gender_2.0   True\n",
      "30       Histology_1.0   True\n",
      "5              Protime   True\n",
      "4              Albumin   True\n",
      "3                 SGOT   True\n",
      "2         AlkPhosphate   True\n",
      "21       LiverFirm_2.0   True\n",
      "28         Varices_1.0  False\n",
      "29         Varices_2.0  False\n",
      "26         Ascites_1.0  False\n",
      "25         Spiders_2.0  False\n",
      "16        Anorexia_1.0  False\n",
      "19        LiverBig_2.0  False\n",
      "18        LiverBig_1.0  False\n",
      "17        Anorexia_2.0  False\n",
      "15         Malaise_2.0  False\n",
      "13         Fatigue_2.0  False\n",
      "12         Fatigue_1.0  False\n",
      "11      Antivirals_2.0  False\n",
      "9          Steroid_2.0  False\n",
      "8          Steroid_1.0  False\n",
      "6           Gender_1.0  False\n",
      "31       Histology_2.0  False\n"
     ]
    }
   ],
   "source": [
    "sorted_features=pd.DataFrame(list(zip(X_stand.columns,rfe.support_)), columns = ['coluna','rfe']).sort_values(by='rfe',ascending=False)\n",
    "print(sorted_features)"
   ]
  },
  {
   "cell_type": "code",
   "execution_count": 73,
   "metadata": {},
   "outputs": [],
   "source": [
    "X_rfe = X_stand[sorted_features.coluna[sorted_features['rfe'] == True]]"
   ]
  },
  {
   "cell_type": "code",
   "execution_count": 124,
   "metadata": {},
   "outputs": [
    {
     "data": {
      "text/plain": [
       "0                    Age\n",
       "20         LiverFirm_1.0\n",
       "22    SpleenPalpable_1.0\n",
       "23    SpleenPalpable_2.0\n",
       "1              Bilirubin\n",
       "24           Spiders_1.0\n",
       "14           Malaise_1.0\n",
       "27           Ascites_2.0\n",
       "10        Antivirals_1.0\n",
       "7             Gender_2.0\n",
       "30         Histology_1.0\n",
       "5                Protime\n",
       "4                Albumin\n",
       "3                   SGOT\n",
       "2           AlkPhosphate\n",
       "21         LiverFirm_2.0\n",
       "Name: coluna, dtype: object"
      ]
     },
     "execution_count": 124,
     "metadata": {},
     "output_type": "execute_result"
    }
   ],
   "source": [
    "sorted_features.coluna[sorted_features['rfe'] == True]"
   ]
  },
  {
   "cell_type": "code",
   "execution_count": 74,
   "metadata": {},
   "outputs": [],
   "source": [
    "# Parâmetros para a divisão dos dados em treino e teste\n",
    "seed = 42\n",
    "test_size = 0.27"
   ]
  },
  {
   "cell_type": "code",
   "execution_count": 75,
   "metadata": {},
   "outputs": [],
   "source": [
    "# Divisão dos dados em treino e teste\n",
    "from sklearn.model_selection import train_test_split\n",
    "X_treino, X_teste, y_treino, y_teste = train_test_split(X_rfe, Y, test_size = test_size, random_state = seed, stratify=Y)"
   ]
  },
  {
   "cell_type": "markdown",
   "metadata": {},
   "source": [
    "## Oversampling usando SMOTE"
   ]
  },
  {
   "cell_type": "markdown",
   "metadata": {},
   "source": [
    "Agora vamos aplicar um oversampling para corrigir um viés no conjunto de dados original, empregando Synthetic Minority Over-sampling Technique para balancear os dados."
   ]
  },
  {
   "cell_type": "code",
   "execution_count": 76,
   "metadata": {},
   "outputs": [],
   "source": [
    "from imblearn.over_sampling import SMOTE\n",
    "smt = SMOTE(random_state=42, ratio='auto')\n",
    "X_treino, y_treino = smt.fit_sample(X_treino.values, y_treino.values)"
   ]
  },
  {
   "cell_type": "code",
   "execution_count": 77,
   "metadata": {},
   "outputs": [
    {
     "data": {
      "image/png": "[encoded data removed]",
      "text/plain": [
       "<Figure size 432x288 with 1 Axes>"
      ]
     },
     "metadata": {},
     "output_type": "display_data"
    }
   ],
   "source": [
    "sns.set(style=\"whitegrid\")\n",
    "\n",
    "#Usando um gráfico de barras para mostrar a distribuição das classes: ativado e não-ativado\n",
    "bp = sns.countplot(x=y_treino)\n",
    "plt.title(\"Distribuição de classe do conjunto de dados\")\n",
    "bp.set_xticklabels([\"Morrer\",\"Sobreviver\"])\n",
    "plt.show()"
   ]
  },
  {
   "cell_type": "code",
   "execution_count": 78,
   "metadata": {},
   "outputs": [
    {
     "data": {
      "text/plain": [
       "(176, 16)"
      ]
     },
     "execution_count": 78,
     "metadata": {},
     "output_type": "execute_result"
    }
   ],
   "source": [
    "X_treino.shape"
   ]
  },
  {
   "cell_type": "code",
   "execution_count": 79,
   "metadata": {},
   "outputs": [
    {
     "data": {
      "text/plain": [
       "(42, 16)"
      ]
     },
     "execution_count": 79,
     "metadata": {},
     "output_type": "execute_result"
    }
   ],
   "source": [
    "X_teste.shape"
   ]
  },
  {
   "cell_type": "code",
   "execution_count": 80,
   "metadata": {},
   "outputs": [
    {
     "data": {
      "text/plain": [
       "(176,)"
      ]
     },
     "execution_count": 80,
     "metadata": {},
     "output_type": "execute_result"
    }
   ],
   "source": [
    "y_treino.shape"
   ]
  },
  {
   "cell_type": "code",
   "execution_count": 81,
   "metadata": {},
   "outputs": [
    {
     "data": {
      "text/plain": [
       "(42,)"
      ]
     },
     "execution_count": 81,
     "metadata": {},
     "output_type": "execute_result"
    }
   ],
   "source": [
    "y_teste.shape"
   ]
  },
  {
   "cell_type": "markdown",
   "metadata": {},
   "source": [
    "## Criando o Classificador"
   ]
  },
  {
   "cell_type": "code",
   "execution_count": 82,
   "metadata": {},
   "outputs": [
    {
     "data": {
      "text/plain": [
       "LogisticRegression(C=1, class_weight=None, dual=False, fit_intercept=True,\n",
       "                   intercept_scaling=1, l1_ratio=None, max_iter=300,\n",
       "                   multi_class='auto', n_jobs=None, penalty='l2',\n",
       "                   random_state=None, solver='lbfgs', tol=0.0001, verbose=0,\n",
       "                   warm_start=False)"
      ]
     },
     "execution_count": 82,
     "metadata": {},
     "output_type": "execute_result"
    }
   ],
   "source": [
    "# Cria o classificador\n",
    "modelo = LogisticRegression(C=1, solver='lbfgs',max_iter=300, penalty=\"l2\")\n",
    "\n",
    "# Treina e cria o modelo\n",
    "modelo.fit(X_treino, y_treino)"
   ]
  },
  {
   "cell_type": "code",
   "execution_count": 83,
   "metadata": {},
   "outputs": [],
   "source": [
    "# Previsões com dados de teste\n",
    "y_pred = modelo.predict(X_teste)\n",
    "y_pred_proba = modelo.predict_proba(X_teste)[:,1]"
   ]
  },
  {
   "cell_type": "markdown",
   "metadata": {},
   "source": [
    "## Avaliando a performance do modelo"
   ]
  },
  {
   "cell_type": "code",
   "execution_count": 84,
   "metadata": {},
   "outputs": [
    {
     "name": "stdout",
     "output_type": "stream",
     "text": [
      "Acurácia: (%): \n",
      " 90.47619047619048\n",
      "AUC (%): \n",
      " 94.11764705882352\n",
      "Precision Score (%): \n",
      " 100.0\n",
      "Recall Score (%): \n",
      " 88.23529411764706\n"
     ]
    }
   ],
   "source": [
    "acc_RF = accuracy_score(y_teste, y_pred)*100\n",
    "print('Acurácia: (%): \\n',acc_RF)\n",
    "      \n",
    "\n",
    "fpr1 , tpr1, _ = roc_curve(y_teste, y_pred)\n",
    "auc_RF = auc(fpr1, tpr1)*100\n",
    "print(\"AUC (%): \\n\", auc_RF)\n",
    "\n",
    "pre_RF = precision_score(y_teste, y_pred)\n",
    "print('Precision Score (%): \\n',pre_RF*100 )\n",
    "rec_RF = recall_score(y_teste, y_pred)\n",
    "print('Recall Score (%): \\n', rec_RF*100)"
   ]
  },
  {
   "cell_type": "code",
   "execution_count": 85,
   "metadata": {},
   "outputs": [
    {
     "data": {
      "text/plain": [
       "(42,)"
      ]
     },
     "execution_count": 85,
     "metadata": {},
     "output_type": "execute_result"
    }
   ],
   "source": [
    "y_pred.shape"
   ]
  },
  {
   "cell_type": "code",
   "execution_count": 86,
   "metadata": {},
   "outputs": [
    {
     "name": "stderr",
     "output_type": "stream",
     "text": [
      "C:\\Users\\anton\\Anaconda3\\envs\\PLN\\lib\\site-packages\\numpy\\lib\\type_check.py:546: DeprecationWarning: np.asscalar(a) is deprecated since NumPy v1.16, use a.item() instead\n",
      "  'a.item() instead', DeprecationWarning, stacklevel=1)\n",
      "C:\\Users\\anton\\Anaconda3\\envs\\PLN\\lib\\site-packages\\numpy\\lib\\type_check.py:546: DeprecationWarning: np.asscalar(a) is deprecated since NumPy v1.16, use a.item() instead\n",
      "  'a.item() instead', DeprecationWarning, stacklevel=1)\n"
     ]
    },
    {
     "data": {
      "image/png": "[encoded data removed]",
      "text/plain": [
       "<Figure size 504x504 with 1 Axes>"
      ]
     },
     "metadata": {},
     "output_type": "display_data"
    }
   ],
   "source": [
    "# Visualizando a Confusion Matrix\n",
    "cm = confusion_matrix(y_teste, y_pred)\n",
    "#put it into a dataframe\n",
    "cm_df = pd.DataFrame(cm)\n",
    "\n",
    "#plot CM\n",
    "fig, ax = plt.subplots(figsize = (7,7))\n",
    "sns.heatmap(pd.DataFrame(cm_df), annot=True, annot_kws={\"size\": 15}, cmap=\"Purples\", vmin=0, vmax=42, fmt='.0f', linewidths=1, linecolor=\"white\", cbar=False,\n",
    "           xticklabels=[\"Morrer\",\"Sobreviver\"], yticklabels=[\"Morrer\",\"Sobreviver\"])\n",
    "plt.xlabel(\"Previsão\", fontsize=15)\n",
    "plt.ylabel(\"Real\", fontsize=15)\n",
    "ax.set_xticklabels([\"Morrer\",\"Sobreviver\"], fontsize=13)\n",
    "ax.set_yticklabels([\"Morrer\",\"Sobreviver\"], fontsize=13)\n",
    "plt.title(\"Confusion Matrix (Threshold = 0.5) - Contagens\", fontsize=15)\n",
    "plt.show()"
   ]
  },
  {
   "cell_type": "code",
   "execution_count": 87,
   "metadata": {},
   "outputs": [
    {
     "name": "stderr",
     "output_type": "stream",
     "text": [
      "C:\\Users\\anton\\Anaconda3\\envs\\PLN\\lib\\site-packages\\numpy\\lib\\type_check.py:546: DeprecationWarning: np.asscalar(a) is deprecated since NumPy v1.16, use a.item() instead\n",
      "  'a.item() instead', DeprecationWarning, stacklevel=1)\n",
      "C:\\Users\\anton\\Anaconda3\\envs\\PLN\\lib\\site-packages\\numpy\\lib\\type_check.py:546: DeprecationWarning: np.asscalar(a) is deprecated since NumPy v1.16, use a.item() instead\n",
      "  'a.item() instead', DeprecationWarning, stacklevel=1)\n"
     ]
    },
    {
     "data": {
      "image/png": "[encoded data removed]",
      "text/plain": [
       "<Figure size 504x504 with 1 Axes>"
      ]
     },
     "metadata": {},
     "output_type": "display_data"
    }
   ],
   "source": [
    "# Visualizando proporcinalmente a Confusion Matrix\n",
    "\n",
    "# convertendo contagens em proporções\n",
    "cm = cm.astype('float') / cm.sum(axis=1)[:, np.newaxis]\n",
    "\n",
    "cm_df = pd.DataFrame(cm)\n",
    "fig, ax = plt.subplots(figsize = (7,7))\n",
    "sns.heatmap(pd.DataFrame(cm_df), annot=True, annot_kws={\"size\": 15}, cmap=\"Purples\", vmin=0, vmax=1, fmt='.3f', linewidths=1, linecolor=\"white\", cbar=False,\n",
    "           xticklabels=[\"Morrer\",\"Sobreviver\"], yticklabels=[\"Morrer\",\"Sobreviver\"])\n",
    "plt.xlabel(\"Previsão\", fontsize=15)\n",
    "plt.ylabel(\"Real\", fontsize=15)\n",
    "ax.set_xticklabels([\"Morrer\",\"Sobreviver\"], fontsize=13)\n",
    "ax.set_yticklabels([\"Morrer\",\"Sobreviver\"], fontsize=13)\n",
    "plt.title(\"Confusion Matrix (Threshold = 0.5) - Proporções\", fontsize=15)\n",
    "\n",
    "plt.show()"
   ]
  },
  {
   "cell_type": "code",
   "execution_count": 88,
   "metadata": {},
   "outputs": [
    {
     "data": {
      "image/png": "[encoded data removed]",
      "text/plain": [
       "<Figure size 720x504 with 1 Axes>"
      ]
     },
     "metadata": {},
     "output_type": "display_data"
    }
   ],
   "source": [
    "# Visualizando a curva ROC\n",
    "\n",
    "fpr, tpr, thresholds = roc_curve(y_teste, y_pred)\n",
    "\n",
    "fig, ax = plt.subplots(figsize = (10,7))\n",
    "#plotting the \"guessing\" model\n",
    "plt.plot([0, 1], [0, 1], 'k--')\n",
    "#plotting the logistic model\n",
    "plt.plot(fpr, tpr)\n",
    "plt.fill_between(fpr, tpr, alpha=0.2, color='b')\n",
    "plt.xlabel('Taxa de Falso Positivo (Especificidade)')\n",
    "plt.ylabel('Taxa de Verdadeiro Positivo (Sensibilidade)')\n",
    "plt.title('Curva ROC: AUC={0:0.3f}'.format(roc_auc_score(y_teste,y_pred)))\n",
    "plt.show()"
   ]
  },
  {
   "cell_type": "code",
   "execution_count": 89,
   "metadata": {},
   "outputs": [
    {
     "name": "stdout",
     "output_type": "stream",
     "text": [
      "[0.29666235 0.86400841 0.00486226 0.8933616  0.97470151 0.6876461\n",
      " 0.72067575 0.95987211 0.5363278  0.95728332 0.18706525 0.73876544\n",
      " 0.94815056 0.92020662 0.92751764 0.8356402  0.97276458 0.95238447\n",
      " 0.90245979 0.09980561 0.07094785 0.40802613 0.95586651 0.92084447\n",
      " 0.94813893 0.11793391 0.87668289 0.52933669 0.96173438 0.96281539\n",
      " 0.15603104 0.02197506 0.97655416 0.96873661 0.98472262 0.72195\n",
      " 0.10402598 0.58830574 0.11819475 0.07167486 0.98661123 0.9981193 ]\n"
     ]
    }
   ],
   "source": [
    "print(y_pred_proba)"
   ]
  },
  {
   "cell_type": "code",
   "execution_count": 90,
   "metadata": {},
   "outputs": [
    {
     "name": "stdout",
     "output_type": "stream",
     "text": [
      "[0 1 0 1 1 1 1 1 1 1 0 1 1 1 1 1 1 1 1 0 0 0 1 1 1 0 1 1 1 1 0 0 1 1 1 1 0\n",
      " 1 0 0 1 1]\n",
      "[1 1 0 1 1 1 1 1 1 1 1 1 1 1 1 1 1 1 1 0 0 0 1 1 1 1 1 1 1 1 1 0 1 1 1 1 0\n",
      " 1 0 0 1 1]\n"
     ]
    }
   ],
   "source": [
    "print(y_pred)\n",
    "print(y_teste.values)"
   ]
  },
  {
   "cell_type": "code",
   "execution_count": 91,
   "metadata": {},
   "outputs": [
    {
     "name": "stdout",
     "output_type": "stream",
     "text": [
      "              precision    recall  f1-score   support\n",
      "\n",
      "           0       0.67      1.00      0.80         8\n",
      "           1       1.00      0.88      0.94        34\n",
      "\n",
      "    accuracy                           0.90        42\n",
      "   macro avg       0.83      0.94      0.87        42\n",
      "weighted avg       0.94      0.90      0.91        42\n",
      "\n"
     ]
    }
   ],
   "source": [
    "#generating a report to extract the measure of interest using built-in sklearn function\n",
    "print(classification_report(y_teste,y_pred))"
   ]
  },
  {
   "cell_type": "markdown",
   "metadata": {},
   "source": [
    "## Conclusão"
   ]
  },
  {
   "cell_type": "markdown",
   "metadata": {},
   "source": [
    "Mediante as características dos atributos disponibilizados no conjunto de dados e o objetivo proposto nesse trabalho, o modelo se comporta muito bem. Quando analisamos nossa classe positiva, ele atinge uma precisão de 100%, isso quer dizer que houve zero ocorrência de falso positivo, ou seja, no conjunto de dados de teste, todos os casos em que o modelo classificou como paciente sobreviver, o modelo acertou. Podemos aplicar este modelo em novos dados para obter as probabilidades para cada classe e assim encontrar a probabilidade de sobrevivência."
   ]
  },
  {
   "cell_type": "markdown",
   "metadata": {},
   "source": [
    "# Fim"
   ]
  }
 ],
 "metadata": {
  "kernelspec": {
   "display_name": "Python 3",
   "language": "python",
   "name": "python3"
  },
  "language_info": {
   "codemirror_mode": {
    "name": "ipython",
    "version": 3
   },
   "file_extension": ".py",
   "mimetype": "text/x-python",
   "name": "python",
   "nbconvert_exporter": "python",
   "pygments_lexer": "ipython3",
   "version": "3.6.4"
  }
 },
 "nbformat": 4,
 "nbformat_minor": 2
}
